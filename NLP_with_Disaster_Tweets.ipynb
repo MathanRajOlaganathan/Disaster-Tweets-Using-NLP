{
 "cells": [
  {
   "cell_type": "markdown",
   "metadata": {
    "colab_type": "text",
    "id": "Yruu8G_FOejY"
   },
   "source": [
    "**<h1><center>Disaster Tweets prediction uisng NLP, ML & DL</center></h1>**\n",
    "<h3><center>Mathan Raj O</center></h3>\n",
    "<h3><center>11/05/2020</center></h3>"
   ]
  },
  {
   "cell_type": "markdown",
   "metadata": {
    "colab_type": "text",
    "id": "Ds_T3BFw3x6L"
   },
   "source": [
    "#Table of Contents\n",
    "<div style='margin-top:20px'>\n",
    "<font size=3>\n",
    " \n",
    ">1.<a href='#item1'>Introduction</a><br>\n",
    ">2.<a href='#item2'>Data</a><br>\n",
    ">3.<a href='item3'>Data Preprocessing</a><br>\n",
    ">4.<a href='#item4'>Model using DeepLearning</a><br>\n",
    ">5.<a href='#item5'>Model using ML Algorithsm</a>\n",
    "\n",
    "\n",
    "\n",
    "\n",
    "\n",
    "\n",
    "</font>\n",
    "</div>"
   ]
  },
  {
   "cell_type": "markdown",
   "metadata": {
    "colab_type": "text",
    "id": "OXa04pob5JYc"
   },
   "source": [
    "<a id='item1'></a>"
   ]
  },
  {
   "cell_type": "markdown",
   "metadata": {
    "colab_type": "text",
    "id": "R1ftW0vd5NwT"
   },
   "source": [
    "###1.Introduction"
   ]
  },
  {
   "cell_type": "markdown",
   "metadata": {
    "colab_type": "text",
    "id": "-fqECZ352_Di"
   },
   "source": [
    "Twitter has become an important communication channel in times of emergency.\n",
    "The ubiquitousness of smartphones enables people to announce an emergency they’re observing in real-time. Because of this, more agencies are interested in programatically monitoring Twitter (i.e. disaster relief organizations and news agencies)."
   ]
  },
  {
   "cell_type": "markdown",
   "metadata": {
    "colab_type": "text",
    "id": "g-5_PhLXVXk5"
   },
   "source": [
    " The objective is to build a machine learning model that predicts which Tweets are about real disasters and which one’s aren’t."
   ]
  },
  {
   "cell_type": "code",
   "execution_count": 0,
   "metadata": {
    "colab": {},
    "colab_type": "code",
    "id": "SlS4O_e4dnCw"
   },
   "outputs": [],
   "source": []
  },
  {
   "cell_type": "markdown",
   "metadata": {
    "colab_type": "text",
    "id": "va_xMcvg5fLQ"
   },
   "source": [
    "<a id='item2'></a>"
   ]
  },
  {
   "cell_type": "markdown",
   "metadata": {
    "colab_type": "text",
    "id": "GYs3eSnH5kw7"
   },
   "source": [
    "###2.Data"
   ]
  },
  {
   "cell_type": "markdown",
   "metadata": {
    "colab_type": "text",
    "id": "GrOxPBL_52MU"
   },
   "source": [
    "###Files\n",
    "train.csv - the training set<br>\n",
    "test.csv - the test set<br>\n",
    "sample_submission.csv - a sample submission file in the correct format<br>\n",
    "###Columns\n",
    "id - a unique identifier for each tweet<br>\n",
    "text - the text of the tweet<br>\n",
    "location - the location the tweet was sent from (may be blank)<br>\n",
    "keyword - a particular keyword from the tweet (may be blank)<br>\n",
    "target - in train.csv only, this denotes whether a tweet is about a real disaster (1) or not (0)<br>"
   ]
  },
  {
   "cell_type": "code",
   "execution_count": 2,
   "metadata": {
    "colab": {
     "base_uri": "https://localhost:8080/",
     "height": 461,
     "resources": {
      "http://localhost:8080/nbextensions/google.colab/files.js": {
       "data": "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",
       "headers": [
        [
         "content-type",
         "application/javascript"
        ]
       ],
       "ok": true,
       "status": 200,
       "status_text": ""
      }
     }
    },
    "colab_type": "code",
    "id": "Qv17X-SMPBsI",
    "outputId": "8830a915-803e-40d5-ad4c-fdd523950e26"
   },
   "outputs": [
    {
     "data": {
      "text/html": [
       "\n",
       "     <input type=\"file\" id=\"files-57076a53-f964-4fce-9237-fb51672946d9\" name=\"files[]\" multiple disabled />\n",
       "     <output id=\"result-57076a53-f964-4fce-9237-fb51672946d9\">\n",
       "      Upload widget is only available when the cell has been executed in the\n",
       "      current browser session. Please rerun this cell to enable.\n",
       "      </output>\n",
       "      <script src=\"/nbextensions/google.colab/files.js\"></script> "
      ],
      "text/plain": [
       "<IPython.core.display.HTML object>"
      ]
     },
     "metadata": {
      "tags": []
     },
     "output_type": "display_data"
    },
    {
     "name": "stdout",
     "output_type": "stream",
     "text": [
      "Saving kaggle.json to kaggle (1).json\n",
      "Warning: Looks like you're using an outdated API Version, please consider updating (server 1.5.6 / client 1.5.4)\n",
      "ref                                                         title                                                size  lastUpdated          downloadCount  \n",
      "----------------------------------------------------------  --------------------------------------------------  -----  -------------------  -------------  \n",
      "allen-institute-for-ai/CORD-19-research-challenge           COVID-19 Open Research Dataset Challenge (CORD-19)    2GB  2020-05-02 20:35:01          64602  \n",
      "roche-data-science-coalition/uncover                        UNCOVER COVID-19 Challenge                          142MB  2020-04-29 22:47:23           8084  \n",
      "mrmorj/political-advertisements-from-facebook               Political Advertisements from Facebook              237MB  2020-05-05 18:53:51             17  \n",
      "amanarora/obesity-among-adults-by-country-19752016          Obesity among adults by country, 1975-2016          362KB  2020-05-08 07:40:50             78  \n",
      "jessemostipak/animal-crossing                               Animal Crossing                                     754KB  2020-05-04 15:30:32            265  \n",
      "mrmorj/hospital-bed-capacity-and-covid19                    Hospital Bed Capacity and COVID-19                   86KB  2020-05-10 09:22:49             34  \n",
      "sudalairajkumar/nifty-indices-dataset                       Nifty Indices Dataset                                 1MB  2020-05-09 17:22:01             20  \n",
      "mrisdal/married-at-first-sight                              Married at First Sight                                2KB  2020-05-09 07:25:16             40  \n",
      "timxia/enriched-global-mobility-data-apple-google           Enriched Global Mobility Data (Apple + Google)        3MB  2020-05-04 06:52:35             29  \n",
      "gyejr95/tft-match-data                                      TFT(League Of Legends) - High Elo Ranked Games       13MB  2020-05-10 07:08:59             17  \n",
      "susuwatari/epa-vehicle-dataset-19802021                     EPA Vehicle Dataset (~1980-2021)                      2MB  2020-05-10 18:20:19             12  \n",
      "idoyo92/epl-stats-20192020                                  English Premier League stats 2019-2020               31KB  2020-05-10 14:41:27             31  \n",
      "andrewmvd/udemy-courses                                     Udemy Courses                                       201KB  2020-05-11 15:17:53             69  \n",
      "phiitm/covid19-research-preprint-data                       COVID-19 Research Preprint Data                       2MB  2020-05-11 19:58:38              4  \n",
      "benroshan/factors-affecting-campus-placement                Campus Recruitment                                    5KB  2020-04-11 11:09:02           3601  \n",
      "bobbyscience/league-of-legends-diamond-ranked-games-10-min  League of Legends Diamond Ranked Games (10 min)     539KB  2020-04-13 13:53:02           1729  \n",
      "fireballbyedimyrnmom/us-counties-covid-19-dataset           US counties COVID 19 dataset                          1MB  2020-05-11 12:03:27           6359  \n",
      "divyansh22/flight-delay-prediction                          January Flight Delay Prediction                      23MB  2020-04-14 13:15:41           1383  \n",
      "clmentbisaillon/fake-and-real-news-dataset                  Fake and real news dataset                           41MB  2020-03-26 18:51:15           3634  \n",
      "ikiulian/global-hospital-beds-capacity-for-covid19          Global Hospital Beds Capacity (for covid-19)        284KB  2020-04-26 09:39:35           1683  \n"
     ]
    }
   ],
   "source": [
    "! pip install -q kaggle\n",
    "\n",
    "from google.colab import files\n",
    "# Choose the kaggle.json file that you downloaded\n",
    "files.upload()\n",
    "\n",
    "# ! mkdir ~/.kaggle\n",
    "#  Make directory named kaggle and copy kaggle.json file there.\n",
    "! cp kaggle.json ~/.kaggle/\n",
    "\n",
    "# Change the permissions of the file.\n",
    "! chmod 600 ~/.kaggle/kaggle.json\n",
    "\n",
    "\n",
    "! kaggle datasets list"
   ]
  },
  {
   "cell_type": "markdown",
   "metadata": {
    "colab_type": "text",
    "id": "BcltcHU26WiP"
   },
   "source": [
    "Downloading the tweets datasets from Kaggle"
   ]
  },
  {
   "cell_type": "code",
   "execution_count": 3,
   "metadata": {
    "colab": {
     "base_uri": "https://localhost:8080/",
     "height": 185
    },
    "colab_type": "code",
    "id": "3ou9_w-1RjJt",
    "outputId": "4883e8af-cb86-490f-f773-4df460c4fe59"
   },
   "outputs": [
    {
     "name": "stdout",
     "output_type": "stream",
     "text": [
      "Warning: Looks like you're using an outdated API Version, please consider updating (server 1.5.6 / client 1.5.4)\n",
      "Downloading train.csv to .\n",
      "\r",
      "  0% 0.00/965k [00:00<?, ?B/s]\n",
      "100% 965k/965k [00:00<00:00, 31.6MB/s]\n",
      "Downloading test.csv to .\n",
      "  0% 0.00/411k [00:00<?, ?B/s]\n",
      "100% 411k/411k [00:00<00:00, 127MB/s]\n",
      "Downloading sample_submission.csv to .\n",
      "  0% 0.00/22.2k [00:00<?, ?B/s]\n",
      "100% 22.2k/22.2k [00:00<00:00, 22.4MB/s]\n"
     ]
    }
   ],
   "source": [
    "!kaggle competitions download -w nlp-getting-started"
   ]
  },
  {
   "cell_type": "markdown",
   "metadata": {
    "colab_type": "text",
    "id": "-bgXdEhJ6PB1"
   },
   "source": [
    "###Importing Libraries"
   ]
  },
  {
   "cell_type": "code",
   "execution_count": 4,
   "metadata": {
    "colab": {
     "base_uri": "https://localhost:8080/",
     "height": 138
    },
    "colab_type": "code",
    "id": "-G305_ngRAi5",
    "outputId": "06be7444-cf4d-4377-d8df-03f314ef41c6"
   },
   "outputs": [
    {
     "name": "stdout",
     "output_type": "stream",
     "text": [
      "[nltk_data] Downloading package stopwords to /root/nltk_data...\n",
      "[nltk_data]   Unzipping corpora/stopwords.zip.\n",
      "[nltk_data] Downloading package wordnet to /root/nltk_data...\n",
      "[nltk_data]   Unzipping corpora/wordnet.zip.\n"
     ]
    },
    {
     "name": "stderr",
     "output_type": "stream",
     "text": [
      "/usr/local/lib/python3.6/dist-packages/statsmodels/tools/_testing.py:19: FutureWarning: pandas.util.testing is deprecated. Use the functions in the public API at pandas.testing instead.\n",
      "  import pandas.util.testing as tm\n"
     ]
    }
   ],
   "source": [
    "import pandas as pd\n",
    "import nltk\n",
    "from nltk.corpus import stopwords\n",
    "nltk.download('stopwords')\n",
    "nltk.download('wordnet')\n",
    "import tensorflow as tf\n",
    "from tensorflow.keras.preprocessing.text import Tokenizer\n",
    "from tensorflow.keras.preprocessing.sequence import pad_sequences\n",
    "from tensorflow.keras.layers import Dense, Flatten, Embedding, LSTM, Bidirectional\n",
    "from tensorflow.keras.models import Sequential\n",
    "from tensorflow.keras.optimizers import RMSprop, Adam\n",
    "from tensorflow.keras.callbacks import ReduceLROnPlateau\n",
    "import numpy as np\n",
    "from nltk.stem.porter import PorterStemmer\n",
    "from nltk.stem import WordNetLemmatizer\n",
    "from sklearn.feature_extraction.text import CountVectorizer, TfidfVectorizer\n",
    "import re\n",
    "from wordcloud import WordCloud, STOPWORDS\n",
    "import matplotlib.pyplot as plt\n",
    "import seaborn as sns"
   ]
  },
  {
   "cell_type": "code",
   "execution_count": 0,
   "metadata": {
    "colab": {},
    "colab_type": "code",
    "id": "vY7mySwq5x7c"
   },
   "outputs": [],
   "source": [
    "pd.set_option('display.max_rows', 500)\n",
    "pd.set_option('display.max_columns', 500)\n",
    "pd.set_option('display.width', 1000)"
   ]
  },
  {
   "cell_type": "code",
   "execution_count": 0,
   "metadata": {
    "colab": {},
    "colab_type": "code",
    "id": "ID1LTp8XTA2J"
   },
   "outputs": [],
   "source": [
    "df = pd.read_csv('train.csv',usecols=lambda cols:cols not in ['id'])\n",
    "df_test = pd.read_csv('test.csv')"
   ]
  },
  {
   "cell_type": "code",
   "execution_count": 7,
   "metadata": {
    "colab": {
     "base_uri": "https://localhost:8080/",
     "height": 34
    },
    "colab_type": "code",
    "id": "pWTKsFvfJwAY",
    "outputId": "c21fa4cf-787c-4988-94fb-e1ee7ec64651"
   },
   "outputs": [
    {
     "data": {
      "text/plain": [
       "(7613, 3263)"
      ]
     },
     "execution_count": 7,
     "metadata": {
      "tags": []
     },
     "output_type": "execute_result"
    }
   ],
   "source": [
    "len(df),len(df_test)"
   ]
  },
  {
   "cell_type": "code",
   "execution_count": 8,
   "metadata": {
    "colab": {
     "base_uri": "https://localhost:8080/",
     "height": 195
    },
    "colab_type": "code",
    "id": "_-G9jBZzTNBX",
    "outputId": "4e8d0343-829c-4ddd-9c6b-7ed15145cb7b"
   },
   "outputs": [
    {
     "data": {
      "text/html": [
       "<div>\n",
       "<style scoped>\n",
       "    .dataframe tbody tr th:only-of-type {\n",
       "        vertical-align: middle;\n",
       "    }\n",
       "\n",
       "    .dataframe tbody tr th {\n",
       "        vertical-align: top;\n",
       "    }\n",
       "\n",
       "    .dataframe thead th {\n",
       "        text-align: right;\n",
       "    }\n",
       "</style>\n",
       "<table border=\"1\" class=\"dataframe\">\n",
       "  <thead>\n",
       "    <tr style=\"text-align: right;\">\n",
       "      <th></th>\n",
       "      <th>keyword</th>\n",
       "      <th>location</th>\n",
       "      <th>text</th>\n",
       "      <th>target</th>\n",
       "    </tr>\n",
       "  </thead>\n",
       "  <tbody>\n",
       "    <tr>\n",
       "      <th>0</th>\n",
       "      <td>NaN</td>\n",
       "      <td>NaN</td>\n",
       "      <td>Our Deeds are the Reason of this #earthquake M...</td>\n",
       "      <td>1</td>\n",
       "    </tr>\n",
       "    <tr>\n",
       "      <th>1</th>\n",
       "      <td>NaN</td>\n",
       "      <td>NaN</td>\n",
       "      <td>Forest fire near La Ronge Sask. Canada</td>\n",
       "      <td>1</td>\n",
       "    </tr>\n",
       "    <tr>\n",
       "      <th>2</th>\n",
       "      <td>NaN</td>\n",
       "      <td>NaN</td>\n",
       "      <td>All residents asked to 'shelter in place' are ...</td>\n",
       "      <td>1</td>\n",
       "    </tr>\n",
       "    <tr>\n",
       "      <th>3</th>\n",
       "      <td>NaN</td>\n",
       "      <td>NaN</td>\n",
       "      <td>13,000 people receive #wildfires evacuation or...</td>\n",
       "      <td>1</td>\n",
       "    </tr>\n",
       "    <tr>\n",
       "      <th>4</th>\n",
       "      <td>NaN</td>\n",
       "      <td>NaN</td>\n",
       "      <td>Just got sent this photo from Ruby #Alaska as ...</td>\n",
       "      <td>1</td>\n",
       "    </tr>\n",
       "  </tbody>\n",
       "</table>\n",
       "</div>"
      ],
      "text/plain": [
       "  keyword location                                               text  target\n",
       "0     NaN      NaN  Our Deeds are the Reason of this #earthquake M...       1\n",
       "1     NaN      NaN             Forest fire near La Ronge Sask. Canada       1\n",
       "2     NaN      NaN  All residents asked to 'shelter in place' are ...       1\n",
       "3     NaN      NaN  13,000 people receive #wildfires evacuation or...       1\n",
       "4     NaN      NaN  Just got sent this photo from Ruby #Alaska as ...       1"
      ]
     },
     "execution_count": 8,
     "metadata": {
      "tags": []
     },
     "output_type": "execute_result"
    }
   ],
   "source": [
    "df.head()"
   ]
  },
  {
   "cell_type": "code",
   "execution_count": 9,
   "metadata": {
    "colab": {
     "base_uri": "https://localhost:8080/",
     "height": 195
    },
    "colab_type": "code",
    "id": "VSBWQ3PRJss7",
    "outputId": "ea9ed5dc-6c47-446c-c079-8784d6f7f181"
   },
   "outputs": [
    {
     "data": {
      "text/html": [
       "<div>\n",
       "<style scoped>\n",
       "    .dataframe tbody tr th:only-of-type {\n",
       "        vertical-align: middle;\n",
       "    }\n",
       "\n",
       "    .dataframe tbody tr th {\n",
       "        vertical-align: top;\n",
       "    }\n",
       "\n",
       "    .dataframe thead th {\n",
       "        text-align: right;\n",
       "    }\n",
       "</style>\n",
       "<table border=\"1\" class=\"dataframe\">\n",
       "  <thead>\n",
       "    <tr style=\"text-align: right;\">\n",
       "      <th></th>\n",
       "      <th>id</th>\n",
       "      <th>keyword</th>\n",
       "      <th>location</th>\n",
       "      <th>text</th>\n",
       "    </tr>\n",
       "  </thead>\n",
       "  <tbody>\n",
       "    <tr>\n",
       "      <th>0</th>\n",
       "      <td>0</td>\n",
       "      <td>NaN</td>\n",
       "      <td>NaN</td>\n",
       "      <td>Just happened a terrible car crash</td>\n",
       "    </tr>\n",
       "    <tr>\n",
       "      <th>1</th>\n",
       "      <td>2</td>\n",
       "      <td>NaN</td>\n",
       "      <td>NaN</td>\n",
       "      <td>Heard about #earthquake is different cities, s...</td>\n",
       "    </tr>\n",
       "    <tr>\n",
       "      <th>2</th>\n",
       "      <td>3</td>\n",
       "      <td>NaN</td>\n",
       "      <td>NaN</td>\n",
       "      <td>there is a forest fire at spot pond, geese are...</td>\n",
       "    </tr>\n",
       "    <tr>\n",
       "      <th>3</th>\n",
       "      <td>9</td>\n",
       "      <td>NaN</td>\n",
       "      <td>NaN</td>\n",
       "      <td>Apocalypse lighting. #Spokane #wildfires</td>\n",
       "    </tr>\n",
       "    <tr>\n",
       "      <th>4</th>\n",
       "      <td>11</td>\n",
       "      <td>NaN</td>\n",
       "      <td>NaN</td>\n",
       "      <td>Typhoon Soudelor kills 28 in China and Taiwan</td>\n",
       "    </tr>\n",
       "  </tbody>\n",
       "</table>\n",
       "</div>"
      ],
      "text/plain": [
       "   id keyword location                                               text\n",
       "0   0     NaN      NaN                 Just happened a terrible car crash\n",
       "1   2     NaN      NaN  Heard about #earthquake is different cities, s...\n",
       "2   3     NaN      NaN  there is a forest fire at spot pond, geese are...\n",
       "3   9     NaN      NaN           Apocalypse lighting. #Spokane #wildfires\n",
       "4  11     NaN      NaN      Typhoon Soudelor kills 28 in China and Taiwan"
      ]
     },
     "execution_count": 9,
     "metadata": {
      "tags": []
     },
     "output_type": "execute_result"
    }
   ],
   "source": [
    "df_test.head()"
   ]
  },
  {
   "cell_type": "code",
   "execution_count": 10,
   "metadata": {
    "colab": {
     "base_uri": "https://localhost:8080/",
     "height": 166
    },
    "colab_type": "code",
    "id": "WKGKUj7iy2jg",
    "outputId": "680ea8a5-d693-41c2-ec59-be297788b674"
   },
   "outputs": [
    {
     "data": {
      "text/html": [
       "<div>\n",
       "<style scoped>\n",
       "    .dataframe tbody tr th:only-of-type {\n",
       "        vertical-align: middle;\n",
       "    }\n",
       "\n",
       "    .dataframe tbody tr th {\n",
       "        vertical-align: top;\n",
       "    }\n",
       "\n",
       "    .dataframe thead tr th {\n",
       "        text-align: left;\n",
       "    }\n",
       "\n",
       "    .dataframe thead tr:last-of-type th {\n",
       "        text-align: right;\n",
       "    }\n",
       "</style>\n",
       "<table border=\"1\" class=\"dataframe\">\n",
       "  <thead>\n",
       "    <tr>\n",
       "      <th></th>\n",
       "      <th colspan=\"4\" halign=\"left\">keyword</th>\n",
       "      <th colspan=\"4\" halign=\"left\">location</th>\n",
       "      <th colspan=\"4\" halign=\"left\">text</th>\n",
       "    </tr>\n",
       "    <tr>\n",
       "      <th></th>\n",
       "      <th>count</th>\n",
       "      <th>unique</th>\n",
       "      <th>top</th>\n",
       "      <th>freq</th>\n",
       "      <th>count</th>\n",
       "      <th>unique</th>\n",
       "      <th>top</th>\n",
       "      <th>freq</th>\n",
       "      <th>count</th>\n",
       "      <th>unique</th>\n",
       "      <th>top</th>\n",
       "      <th>freq</th>\n",
       "    </tr>\n",
       "    <tr>\n",
       "      <th>target</th>\n",
       "      <th></th>\n",
       "      <th></th>\n",
       "      <th></th>\n",
       "      <th></th>\n",
       "      <th></th>\n",
       "      <th></th>\n",
       "      <th></th>\n",
       "      <th></th>\n",
       "      <th></th>\n",
       "      <th></th>\n",
       "      <th></th>\n",
       "      <th></th>\n",
       "    </tr>\n",
       "  </thead>\n",
       "  <tbody>\n",
       "    <tr>\n",
       "      <th>0</th>\n",
       "      <td>4323</td>\n",
       "      <td>218</td>\n",
       "      <td>body%20bags</td>\n",
       "      <td>40</td>\n",
       "      <td>2884</td>\n",
       "      <td>2142</td>\n",
       "      <td>New York</td>\n",
       "      <td>55</td>\n",
       "      <td>4342</td>\n",
       "      <td>4315</td>\n",
       "      <td>He came to a land which was engulfed in tribal...</td>\n",
       "      <td>4</td>\n",
       "    </tr>\n",
       "    <tr>\n",
       "      <th>1</th>\n",
       "      <td>3229</td>\n",
       "      <td>220</td>\n",
       "      <td>wreckage</td>\n",
       "      <td>39</td>\n",
       "      <td>2196</td>\n",
       "      <td>1513</td>\n",
       "      <td>USA</td>\n",
       "      <td>67</td>\n",
       "      <td>3271</td>\n",
       "      <td>3206</td>\n",
       "      <td>11-Year-Old Boy Charged With Manslaughter of T...</td>\n",
       "      <td>10</td>\n",
       "    </tr>\n",
       "  </tbody>\n",
       "</table>\n",
       "</div>"
      ],
      "text/plain": [
       "       keyword                          location                        text                                                               \n",
       "         count unique          top freq    count unique       top freq count unique                                                top freq\n",
       "target                                                                                                                                     \n",
       "0         4323    218  body%20bags   40     2884   2142  New York   55  4342   4315  He came to a land which was engulfed in tribal...    4\n",
       "1         3229    220     wreckage   39     2196   1513       USA   67  3271   3206  11-Year-Old Boy Charged With Manslaughter of T...   10"
      ]
     },
     "execution_count": 10,
     "metadata": {
      "tags": []
     },
     "output_type": "execute_result"
    }
   ],
   "source": [
    "df.groupby('target').describe()"
   ]
  },
  {
   "cell_type": "code",
   "execution_count": 11,
   "metadata": {
    "colab": {
     "base_uri": "https://localhost:8080/",
     "height": 497
    },
    "colab_type": "code",
    "id": "tZTrfAgHxDFJ",
    "outputId": "95679c97-3a02-4802-9ab6-0f4a1f50eb2d"
   },
   "outputs": [
    {
     "data": {
      "image/png": "[encoded data removed]",
      "text/plain": [
       "<Figure size 576x576 with 1 Axes>"
      ]
     },
     "metadata": {
      "needs_background": "light",
      "tags": []
     },
     "output_type": "display_data"
    }
   ],
   "source": [
    "plt.figure(figsize=(8,8))\n",
    "box = sns.countplot(df.target)\n",
    "for ax in box.patches:\n",
    "  box.text(x=(ax.get_x()+ax.get_width()/2),y=ax.get_height(),s=int(ax.get_height()),fontsize=12,\n",
    "           color='red',ha='center',va='bottom')"
   ]
  },
  {
   "cell_type": "markdown",
   "metadata": {
    "colab_type": "text",
    "id": "9yZSgu-dzU6x"
   },
   "source": [
    "There are 4342 non-disaster and 3271 disaster tweets"
   ]
  },
  {
   "cell_type": "markdown",
   "metadata": {
    "colab_type": "text",
    "id": "qwnivWxeN6zm"
   },
   "source": [
    "Calculating the tweet length"
   ]
  },
  {
   "cell_type": "code",
   "execution_count": 0,
   "metadata": {
    "colab": {},
    "colab_type": "code",
    "id": "Q1Emcgn9zZvl"
   },
   "outputs": [],
   "source": [
    "df['tweet_len'] = df.text.apply(len)\n",
    "df_test['tweet_len'] = df_test.text.apply(len)"
   ]
  },
  {
   "cell_type": "code",
   "execution_count": 13,
   "metadata": {
    "colab": {
     "base_uri": "https://localhost:8080/",
     "height": 195
    },
    "colab_type": "code",
    "id": "go2JE-BkzojE",
    "outputId": "ea6b8851-77da-489c-9b82-646b42abce0c"
   },
   "outputs": [
    {
     "data": {
      "text/html": [
       "<div>\n",
       "<style scoped>\n",
       "    .dataframe tbody tr th:only-of-type {\n",
       "        vertical-align: middle;\n",
       "    }\n",
       "\n",
       "    .dataframe tbody tr th {\n",
       "        vertical-align: top;\n",
       "    }\n",
       "\n",
       "    .dataframe thead th {\n",
       "        text-align: right;\n",
       "    }\n",
       "</style>\n",
       "<table border=\"1\" class=\"dataframe\">\n",
       "  <thead>\n",
       "    <tr style=\"text-align: right;\">\n",
       "      <th></th>\n",
       "      <th>keyword</th>\n",
       "      <th>location</th>\n",
       "      <th>text</th>\n",
       "      <th>target</th>\n",
       "      <th>tweet_len</th>\n",
       "    </tr>\n",
       "  </thead>\n",
       "  <tbody>\n",
       "    <tr>\n",
       "      <th>0</th>\n",
       "      <td>NaN</td>\n",
       "      <td>NaN</td>\n",
       "      <td>Our Deeds are the Reason of this #earthquake M...</td>\n",
       "      <td>1</td>\n",
       "      <td>69</td>\n",
       "    </tr>\n",
       "    <tr>\n",
       "      <th>1</th>\n",
       "      <td>NaN</td>\n",
       "      <td>NaN</td>\n",
       "      <td>Forest fire near La Ronge Sask. Canada</td>\n",
       "      <td>1</td>\n",
       "      <td>38</td>\n",
       "    </tr>\n",
       "    <tr>\n",
       "      <th>2</th>\n",
       "      <td>NaN</td>\n",
       "      <td>NaN</td>\n",
       "      <td>All residents asked to 'shelter in place' are ...</td>\n",
       "      <td>1</td>\n",
       "      <td>133</td>\n",
       "    </tr>\n",
       "    <tr>\n",
       "      <th>3</th>\n",
       "      <td>NaN</td>\n",
       "      <td>NaN</td>\n",
       "      <td>13,000 people receive #wildfires evacuation or...</td>\n",
       "      <td>1</td>\n",
       "      <td>65</td>\n",
       "    </tr>\n",
       "    <tr>\n",
       "      <th>4</th>\n",
       "      <td>NaN</td>\n",
       "      <td>NaN</td>\n",
       "      <td>Just got sent this photo from Ruby #Alaska as ...</td>\n",
       "      <td>1</td>\n",
       "      <td>88</td>\n",
       "    </tr>\n",
       "  </tbody>\n",
       "</table>\n",
       "</div>"
      ],
      "text/plain": [
       "  keyword location                                               text  target  tweet_len\n",
       "0     NaN      NaN  Our Deeds are the Reason of this #earthquake M...       1         69\n",
       "1     NaN      NaN             Forest fire near La Ronge Sask. Canada       1         38\n",
       "2     NaN      NaN  All residents asked to 'shelter in place' are ...       1        133\n",
       "3     NaN      NaN  13,000 people receive #wildfires evacuation or...       1         65\n",
       "4     NaN      NaN  Just got sent this photo from Ruby #Alaska as ...       1         88"
      ]
     },
     "execution_count": 13,
     "metadata": {
      "tags": []
     },
     "output_type": "execute_result"
    }
   ],
   "source": [
    "df.head()"
   ]
  },
  {
   "cell_type": "markdown",
   "metadata": {
    "colab_type": "text",
    "id": "KsVeIB7qOQi6"
   },
   "source": [
    "Checking the trend of tweets against the tweet length"
   ]
  },
  {
   "cell_type": "code",
   "execution_count": 14,
   "metadata": {
    "colab": {
     "base_uri": "https://localhost:8080/",
     "height": 606
    },
    "colab_type": "code",
    "id": "NOrcv1VzzyYv",
    "outputId": "8d253fe5-e2cb-4d2f-d90e-cede324881a2"
   },
   "outputs": [
    {
     "data": {
      "image/png": "[encoded data removed]",
      "text/plain": [
       "<Figure size 720x720 with 1 Axes>"
      ]
     },
     "metadata": {
      "needs_background": "light",
      "tags": []
     },
     "output_type": "display_data"
    }
   ],
   "source": [
    "plt.figure(figsize=(10,10))\n",
    "df[df['target']==0].tweet_len.plot(kind='hist',color='blue',bins=80,alpha=0.6,label='Non-Disaster')\n",
    "df[df['target']==1].tweet_len.plot(kind='hist',color='red',bins=80,alpha=0.6,label='Disaster')\n",
    "plt.legend()\n",
    "plt.xlabel('Tweet Length')\n",
    "plt.show()"
   ]
  },
  {
   "cell_type": "code",
   "execution_count": 15,
   "metadata": {
    "colab": {
     "base_uri": "https://localhost:8080/",
     "height": 284
    },
    "colab_type": "code",
    "id": "AK10Kr3M4DQC",
    "outputId": "74a28ee1-5053-4ba5-e299-16757d5ea5e2"
   },
   "outputs": [
    {
     "data": {
      "text/html": [
       "<div>\n",
       "<style scoped>\n",
       "    .dataframe tbody tr th:only-of-type {\n",
       "        vertical-align: middle;\n",
       "    }\n",
       "\n",
       "    .dataframe tbody tr th {\n",
       "        vertical-align: top;\n",
       "    }\n",
       "\n",
       "    .dataframe thead th {\n",
       "        text-align: right;\n",
       "    }\n",
       "</style>\n",
       "<table border=\"1\" class=\"dataframe\">\n",
       "  <thead>\n",
       "    <tr style=\"text-align: right;\">\n",
       "      <th></th>\n",
       "      <th>target</th>\n",
       "      <th>tweet_len</th>\n",
       "    </tr>\n",
       "  </thead>\n",
       "  <tbody>\n",
       "    <tr>\n",
       "      <th>count</th>\n",
       "      <td>4342.0</td>\n",
       "      <td>4342.000000</td>\n",
       "    </tr>\n",
       "    <tr>\n",
       "      <th>mean</th>\n",
       "      <td>0.0</td>\n",
       "      <td>95.706817</td>\n",
       "    </tr>\n",
       "    <tr>\n",
       "      <th>std</th>\n",
       "      <td>0.0</td>\n",
       "      <td>35.885924</td>\n",
       "    </tr>\n",
       "    <tr>\n",
       "      <th>min</th>\n",
       "      <td>0.0</td>\n",
       "      <td>7.000000</td>\n",
       "    </tr>\n",
       "    <tr>\n",
       "      <th>25%</th>\n",
       "      <td>0.0</td>\n",
       "      <td>68.000000</td>\n",
       "    </tr>\n",
       "    <tr>\n",
       "      <th>50%</th>\n",
       "      <td>0.0</td>\n",
       "      <td>101.000000</td>\n",
       "    </tr>\n",
       "    <tr>\n",
       "      <th>75%</th>\n",
       "      <td>0.0</td>\n",
       "      <td>130.000000</td>\n",
       "    </tr>\n",
       "    <tr>\n",
       "      <th>max</th>\n",
       "      <td>0.0</td>\n",
       "      <td>157.000000</td>\n",
       "    </tr>\n",
       "  </tbody>\n",
       "</table>\n",
       "</div>"
      ],
      "text/plain": [
       "       target    tweet_len\n",
       "count  4342.0  4342.000000\n",
       "mean      0.0    95.706817\n",
       "std       0.0    35.885924\n",
       "min       0.0     7.000000\n",
       "25%       0.0    68.000000\n",
       "50%       0.0   101.000000\n",
       "75%       0.0   130.000000\n",
       "max       0.0   157.000000"
      ]
     },
     "execution_count": 15,
     "metadata": {
      "tags": []
     },
     "output_type": "execute_result"
    }
   ],
   "source": [
    "df[df['target']==0].describe()\n"
   ]
  },
  {
   "cell_type": "code",
   "execution_count": 16,
   "metadata": {
    "colab": {
     "base_uri": "https://localhost:8080/",
     "height": 284
    },
    "colab_type": "code",
    "id": "Xme9o-k94HzT",
    "outputId": "b9026dab-4bc1-41a4-9366-91b47bc3ab0b"
   },
   "outputs": [
    {
     "data": {
      "text/html": [
       "<div>\n",
       "<style scoped>\n",
       "    .dataframe tbody tr th:only-of-type {\n",
       "        vertical-align: middle;\n",
       "    }\n",
       "\n",
       "    .dataframe tbody tr th {\n",
       "        vertical-align: top;\n",
       "    }\n",
       "\n",
       "    .dataframe thead th {\n",
       "        text-align: right;\n",
       "    }\n",
       "</style>\n",
       "<table border=\"1\" class=\"dataframe\">\n",
       "  <thead>\n",
       "    <tr style=\"text-align: right;\">\n",
       "      <th></th>\n",
       "      <th>target</th>\n",
       "      <th>tweet_len</th>\n",
       "    </tr>\n",
       "  </thead>\n",
       "  <tbody>\n",
       "    <tr>\n",
       "      <th>count</th>\n",
       "      <td>3271.0</td>\n",
       "      <td>3271.000000</td>\n",
       "    </tr>\n",
       "    <tr>\n",
       "      <th>mean</th>\n",
       "      <td>1.0</td>\n",
       "      <td>108.113421</td>\n",
       "    </tr>\n",
       "    <tr>\n",
       "      <th>std</th>\n",
       "      <td>0.0</td>\n",
       "      <td>29.309854</td>\n",
       "    </tr>\n",
       "    <tr>\n",
       "      <th>min</th>\n",
       "      <td>1.0</td>\n",
       "      <td>14.000000</td>\n",
       "    </tr>\n",
       "    <tr>\n",
       "      <th>25%</th>\n",
       "      <td>1.0</td>\n",
       "      <td>88.000000</td>\n",
       "    </tr>\n",
       "    <tr>\n",
       "      <th>50%</th>\n",
       "      <td>1.0</td>\n",
       "      <td>115.000000</td>\n",
       "    </tr>\n",
       "    <tr>\n",
       "      <th>75%</th>\n",
       "      <td>1.0</td>\n",
       "      <td>136.000000</td>\n",
       "    </tr>\n",
       "    <tr>\n",
       "      <th>max</th>\n",
       "      <td>1.0</td>\n",
       "      <td>151.000000</td>\n",
       "    </tr>\n",
       "  </tbody>\n",
       "</table>\n",
       "</div>"
      ],
      "text/plain": [
       "       target    tweet_len\n",
       "count  3271.0  3271.000000\n",
       "mean      1.0   108.113421\n",
       "std       0.0    29.309854\n",
       "min       1.0    14.000000\n",
       "25%       1.0    88.000000\n",
       "50%       1.0   115.000000\n",
       "75%       1.0   136.000000\n",
       "max       1.0   151.000000"
      ]
     },
     "execution_count": 16,
     "metadata": {
      "tags": []
     },
     "output_type": "execute_result"
    }
   ],
   "source": [
    "df[df['target']==1].describe()"
   ]
  },
  {
   "cell_type": "markdown",
   "metadata": {
    "colab_type": "text",
    "id": "Tq3brOEDOeRh"
   },
   "source": [
    "Checking the tweet with maximum length"
   ]
  },
  {
   "cell_type": "code",
   "execution_count": 17,
   "metadata": {
    "colab": {
     "base_uri": "https://localhost:8080/",
     "height": 34
    },
    "colab_type": "code",
    "id": "Lil-a65q5lmW",
    "outputId": "0a0001a4-9958-4da6-b4d7-07b3288f7c5e"
   },
   "outputs": [
    {
     "data": {
      "text/plain": [
       "\"when you're taking a shower and someone flushes the toilet and you have .1 second to GTFO or you get burned??????????????????????????????????????????????????\""
      ]
     },
     "execution_count": 17,
     "metadata": {
      "tags": []
     },
     "output_type": "execute_result"
    }
   ],
   "source": [
    "df[df['tweet_len']==157].text.iloc[0]"
   ]
  },
  {
   "cell_type": "code",
   "execution_count": 18,
   "metadata": {
    "colab": {
     "base_uri": "https://localhost:8080/",
     "height": 118
    },
    "colab_type": "code",
    "id": "HUyvwMXzUFuc",
    "outputId": "5267a8a4-1e8f-4861-ac91-421487b8dd06"
   },
   "outputs": [
    {
     "data": {
      "text/plain": [
       "keyword        61\n",
       "location     2533\n",
       "text            0\n",
       "target          0\n",
       "tweet_len       0\n",
       "dtype: int64"
      ]
     },
     "execution_count": 18,
     "metadata": {
      "tags": []
     },
     "output_type": "execute_result"
    }
   ],
   "source": [
    "df.isnull().sum()"
   ]
  },
  {
   "cell_type": "markdown",
   "metadata": {
    "colab_type": "text",
    "id": "2ZiI8vMk7Hdm"
   },
   "source": [
    "<a id='item3'></a>"
   ]
  },
  {
   "cell_type": "markdown",
   "metadata": {
    "colab_type": "text",
    "id": "DjUnzzNs7LnA"
   },
   "source": [
    "###3.Data Preprocessing"
   ]
  },
  {
   "cell_type": "markdown",
   "metadata": {
    "colab_type": "text",
    "id": "KDryiowg7YRm"
   },
   "source": [
    "Replacing the nan values"
   ]
  },
  {
   "cell_type": "code",
   "execution_count": 0,
   "metadata": {
    "colab": {},
    "colab_type": "code",
    "id": "Dvb_f9-JH8TB"
   },
   "outputs": [],
   "source": [
    "df['keyword'].fillna(\"\",inplace=True)\n",
    "df_test['keyword'].fillna(\"\",inplace=True)"
   ]
  },
  {
   "cell_type": "code",
   "execution_count": 0,
   "metadata": {
    "colab": {},
    "colab_type": "code",
    "id": "cpFxYWKfuZUQ"
   },
   "outputs": [],
   "source": [
    "train_data = df.copy()\n",
    "test_data = df_test.copy()"
   ]
  },
  {
   "cell_type": "code",
   "execution_count": 0,
   "metadata": {
    "colab": {},
    "colab_type": "code",
    "id": "nuHS_tTkPZVg"
   },
   "outputs": [],
   "source": [
    "train_data = train_data.append(test_data,ignore_index=False)"
   ]
  },
  {
   "cell_type": "code",
   "execution_count": 51,
   "metadata": {
    "colab": {
     "base_uri": "https://localhost:8080/",
     "height": 195
    },
    "colab_type": "code",
    "id": "UsefNwmQPgSe",
    "outputId": "20734b5c-8308-4714-986e-d3aa678dbbc4"
   },
   "outputs": [
    {
     "data": {
      "text/html": [
       "<div>\n",
       "<style scoped>\n",
       "    .dataframe tbody tr th:only-of-type {\n",
       "        vertical-align: middle;\n",
       "    }\n",
       "\n",
       "    .dataframe tbody tr th {\n",
       "        vertical-align: top;\n",
       "    }\n",
       "\n",
       "    .dataframe thead th {\n",
       "        text-align: right;\n",
       "    }\n",
       "</style>\n",
       "<table border=\"1\" class=\"dataframe\">\n",
       "  <thead>\n",
       "    <tr style=\"text-align: right;\">\n",
       "      <th></th>\n",
       "      <th>keyword</th>\n",
       "      <th>location</th>\n",
       "      <th>text</th>\n",
       "      <th>target</th>\n",
       "      <th>tweet_len</th>\n",
       "      <th>id</th>\n",
       "    </tr>\n",
       "  </thead>\n",
       "  <tbody>\n",
       "    <tr>\n",
       "      <th>0</th>\n",
       "      <td></td>\n",
       "      <td>NaN</td>\n",
       "      <td>Our Deeds are the Reason of this #earthquake M...</td>\n",
       "      <td>1.0</td>\n",
       "      <td>69</td>\n",
       "      <td>NaN</td>\n",
       "    </tr>\n",
       "    <tr>\n",
       "      <th>1</th>\n",
       "      <td></td>\n",
       "      <td>NaN</td>\n",
       "      <td>Forest fire near La Ronge Sask. Canada</td>\n",
       "      <td>1.0</td>\n",
       "      <td>38</td>\n",
       "      <td>NaN</td>\n",
       "    </tr>\n",
       "    <tr>\n",
       "      <th>2</th>\n",
       "      <td></td>\n",
       "      <td>NaN</td>\n",
       "      <td>All residents asked to 'shelter in place' are ...</td>\n",
       "      <td>1.0</td>\n",
       "      <td>133</td>\n",
       "      <td>NaN</td>\n",
       "    </tr>\n",
       "    <tr>\n",
       "      <th>3</th>\n",
       "      <td></td>\n",
       "      <td>NaN</td>\n",
       "      <td>13,000 people receive #wildfires evacuation or...</td>\n",
       "      <td>1.0</td>\n",
       "      <td>65</td>\n",
       "      <td>NaN</td>\n",
       "    </tr>\n",
       "    <tr>\n",
       "      <th>4</th>\n",
       "      <td></td>\n",
       "      <td>NaN</td>\n",
       "      <td>Just got sent this photo from Ruby #Alaska as ...</td>\n",
       "      <td>1.0</td>\n",
       "      <td>88</td>\n",
       "      <td>NaN</td>\n",
       "    </tr>\n",
       "  </tbody>\n",
       "</table>\n",
       "</div>"
      ],
      "text/plain": [
       "  keyword location                                               text  target  tweet_len  id\n",
       "0              NaN  Our Deeds are the Reason of this #earthquake M...     1.0         69 NaN\n",
       "1              NaN             Forest fire near La Ronge Sask. Canada     1.0         38 NaN\n",
       "2              NaN  All residents asked to 'shelter in place' are ...     1.0        133 NaN\n",
       "3              NaN  13,000 people receive #wildfires evacuation or...     1.0         65 NaN\n",
       "4              NaN  Just got sent this photo from Ruby #Alaska as ...     1.0         88 NaN"
      ]
     },
     "execution_count": 51,
     "metadata": {
      "tags": []
     },
     "output_type": "execute_result"
    }
   ],
   "source": [
    "train_data.head()"
   ]
  },
  {
   "cell_type": "code",
   "execution_count": 0,
   "metadata": {
    "colab": {},
    "colab_type": "code",
    "id": "iCzfMhhEJIrx"
   },
   "outputs": [],
   "source": [
    "train_tweet = train_data['keyword']+\" \"+train_data['text']\n",
    "train_label = train_data['target']"
   ]
  },
  {
   "cell_type": "code",
   "execution_count": 58,
   "metadata": {
    "colab": {
     "base_uri": "https://localhost:8080/",
     "height": 34
    },
    "colab_type": "code",
    "id": "nNXqhsCBRoBi",
    "outputId": "90dd317a-fe0d-466f-e2ab-ca88183b88c1"
   },
   "outputs": [
    {
     "data": {
      "text/plain": [
       "10876"
      ]
     },
     "execution_count": 58,
     "metadata": {
      "tags": []
     },
     "output_type": "execute_result"
    }
   ],
   "source": [
    "len(train_data['target'])"
   ]
  },
  {
   "cell_type": "code",
   "execution_count": 0,
   "metadata": {
    "colab": {},
    "colab_type": "code",
    "id": "B4KP1UbTw563"
   },
   "outputs": [],
   "source": [
    "ps = PorterStemmer()\n",
    "wn = WordNetLemmatizer()"
   ]
  },
  {
   "cell_type": "markdown",
   "metadata": {
    "colab_type": "text",
    "id": "XAYezKlt7d30"
   },
   "source": [
    "Function to clean the text"
   ]
  },
  {
   "cell_type": "code",
   "execution_count": 0,
   "metadata": {
    "colab": {},
    "colab_type": "code",
    "id": "0-fs73eY-tsz"
   },
   "outputs": [],
   "source": [
    " # Reference : https://gist.github.com/slowkow/7a7f61f495e3dbb7e3d767f97bd7304b"
   ]
  },
  {
   "cell_type": "code",
   "execution_count": 0,
   "metadata": {
    "colab": {},
    "colab_type": "code",
    "id": "Zha_eci08GIC"
   },
   "outputs": [],
   "source": [
    "import string\n",
    "def cleanText(message):\n",
    "  url = re.compile(r'https?://\\S+|www\\.\\S+')#removing the url\n",
    "  message = url.sub(' ',message)\n",
    "  html=re.compile(r'<.*?>')#removing html\n",
    "  message= html.sub(r'',message)\n",
    "  #removing emojis\n",
    "  emoji_pattern = re.compile(\"[\"\n",
    "                               u\"\\U0001F600-\\U0001F64F\"  # emoticons\n",
    "                               u\"\\U0001F300-\\U0001F5FF\"  # symbols & pictographs\n",
    "                               u\"\\U0001F680-\\U0001F6FF\"  # transport & map symbols\n",
    "                               u\"\\U0001F1E0-\\U0001F1FF\"  # flags (iOS)\n",
    "                               u\"\\U00002702-\\U000027B0\"\n",
    "                               u\"\\U000024C2-\\U0001F251\"\n",
    "                               \"]+\", flags=re.UNICODE)\n",
    "  message =  emoji_pattern.sub(r'', message)\n",
    "  message = message.lower().strip()\n",
    "  message = [char for char in message if char not in string.punctuation]\n",
    "  message = ''.join(message)\n",
    "  return \" \".join([wn.lemmatize(word) for word in message.split() if word not in set(stopwords.words('english'))])\n"
   ]
  },
  {
   "cell_type": "code",
   "execution_count": 54,
   "metadata": {
    "colab": {
     "base_uri": "https://localhost:8080/",
     "height": 67
    },
    "colab_type": "code",
    "id": "lpl217sPw3U1",
    "outputId": "91688d0a-fa90-4ba2-96a8-ebdc25f5e285"
   },
   "outputs": [
    {
     "data": {
      "text/plain": [
       "0     Our Deeds are the Reason of this #earthquake ...\n",
       "1               Forest fire near La Ronge Sask. Canada\n",
       "dtype: object"
      ]
     },
     "execution_count": 54,
     "metadata": {
      "tags": []
     },
     "output_type": "execute_result"
    }
   ],
   "source": [
    "train_tweet.head(2)"
   ]
  },
  {
   "cell_type": "code",
   "execution_count": 0,
   "metadata": {
    "colab": {},
    "colab_type": "code",
    "id": "Hy8FL0ajOXGc"
   },
   "outputs": [],
   "source": [
    "train_tweet = train_tweet.apply(cleanText)"
   ]
  },
  {
   "cell_type": "code",
   "execution_count": 56,
   "metadata": {
    "colab": {
     "base_uri": "https://localhost:8080/",
     "height": 67
    },
    "colab_type": "code",
    "id": "WB_44_XyxiVd",
    "outputId": "58e7c9e3-af4f-4896-e41b-d24b93bdccd9"
   },
   "outputs": [
    {
     "data": {
      "text/plain": [
       "0    deed reason earthquake may allah forgive u\n",
       "1         forest fire near la ronge sask canada\n",
       "dtype: object"
      ]
     },
     "execution_count": 56,
     "metadata": {
      "tags": []
     },
     "output_type": "execute_result"
    }
   ],
   "source": [
    "train_tweet.head(2)"
   ]
  },
  {
   "cell_type": "code",
   "execution_count": 0,
   "metadata": {
    "colab": {},
    "colab_type": "code",
    "id": "vjvRRzv07Zcy"
   },
   "outputs": [],
   "source": [
    "\n",
    "word_tweet = pd.DataFrame({'tweet':train_tweet,'label':train_label})\n"
   ]
  },
  {
   "cell_type": "markdown",
   "metadata": {
    "colab_type": "text",
    "id": "3O9X9b2t8RyD"
   },
   "source": [
    "###WordCloud to visualize the top words for disaster and non-disaster tweets"
   ]
  },
  {
   "cell_type": "code",
   "execution_count": 65,
   "metadata": {
    "colab": {
     "base_uri": "https://localhost:8080/",
     "height": 427
    },
    "colab_type": "code",
    "id": "wl4wArbJ5G7n",
    "outputId": "88e43344-ef84-4ccd-c970-5fa0d53acf2c"
   },
   "outputs": [
    {
     "data": {
      "image/png": "[encoded data removed]",
      "text/plain": [
       "<Figure size 1080x1080 with 2 Axes>"
      ]
     },
     "metadata": {
      "needs_background": "light",
      "tags": []
     },
     "output_type": "display_data"
    }
   ],
   "source": [
    "\n",
    "plt.figure(figsize=(15,15))\n",
    "for i in range(0,2):\n",
    "      if i ==0:\n",
    "        title ='Non-Disaster'\n",
    "      else:\n",
    "        title = 'Disaster'\n",
    "      tweet = word_tweet.loc[word_tweet['label']==i,'tweet']\n",
    "      wordcloud = WordCloud(width=800,height=800,background_color='black',stopwords=set(STOPWORDS),min_font_size=10).generate(str(tweet))\n",
    "      plt.subplot(1,2,i+1)\n",
    "      plt.imshow(wordcloud)\n",
    "      plt.axis('off')\n",
    "      plt.title(title)"
   ]
  },
  {
   "cell_type": "code",
   "execution_count": 0,
   "metadata": {
    "colab": {},
    "colab_type": "code",
    "id": "b87sEpNzUNuO"
   },
   "outputs": [],
   "source": [
    "tweet_max_length = max([len(ele) for ele in train_tweet])"
   ]
  },
  {
   "cell_type": "code",
   "execution_count": 67,
   "metadata": {
    "colab": {
     "base_uri": "https://localhost:8080/",
     "height": 34
    },
    "colab_type": "code",
    "id": "bjK9ueEfUbuq",
    "outputId": "36806464-e756-4ad0-c951-b382fbce1701"
   },
   "outputs": [
    {
     "data": {
      "text/plain": [
       "157"
      ]
     },
     "execution_count": 67,
     "metadata": {
      "tags": []
     },
     "output_type": "execute_result"
    }
   ],
   "source": [
    "tweet_max_length"
   ]
  },
  {
   "cell_type": "markdown",
   "metadata": {
    "colab_type": "text",
    "id": "dQ3QH49VP1gE"
   },
   "source": [
    "Lets tokenize sentences to list of integers"
   ]
  },
  {
   "cell_type": "code",
   "execution_count": 0,
   "metadata": {
    "colab": {},
    "colab_type": "code",
    "id": "pFQIEJYQRY0b"
   },
   "outputs": [],
   "source": [
    "oov_token = '<OOV>'\n",
    "max_length = tweet_max_length\n",
    "padding ='pre'\n",
    "trunc = 'pre'"
   ]
  },
  {
   "cell_type": "code",
   "execution_count": 0,
   "metadata": {
    "colab": {},
    "colab_type": "code",
    "id": "V8JpB4QCRRaV"
   },
   "outputs": [],
   "source": [
    "# tokenizer = Tokenizer(oov_token = oov_token)\n",
    "tokenizer = Tokenizer()\n",
    "tokenizer.fit_on_texts(train_tweet.tolist())#create vocabulary\n",
    "word_index = tokenizer.word_index\n",
    "\n",
    "# Transforms each text in texts to a sequence of integers.\n",
    "train_sequence = tokenizer.texts_to_sequences(train_tweet.tolist())\n",
    "train_padded = pad_sequences(train_sequence,maxlen=max_length,padding=padding,truncating=trunc)\n",
    "\n",
    "# test_sequence = tokenizer.texts_to_sequences(test_tweet.tolist())\n",
    "# test_padded = pad_sequences(test_sequence,maxlen=max_length,padding=padding,truncating=trunc)\n"
   ]
  },
  {
   "cell_type": "code",
   "execution_count": 0,
   "metadata": {
    "colab": {
     "base_uri": "https://localhost:8080/",
     "height": 33
    },
    "colab_type": "code",
    "id": "_afhJgW9XJUu",
    "outputId": "78d07a3d-e06d-4d76-d93e-cbc474f5fef1"
   },
   "outputs": [
    {
     "data": {
      "text/plain": [
       "160"
      ]
     },
     "execution_count": 295,
     "metadata": {
      "tags": []
     },
     "output_type": "execute_result"
    }
   ],
   "source": [
    "word_index.get('earthquake')"
   ]
  },
  {
   "cell_type": "code",
   "execution_count": 0,
   "metadata": {
    "colab": {
     "base_uri": "https://localhost:8080/",
     "height": 284
    },
    "colab_type": "code",
    "id": "H54waQDRWoSD",
    "outputId": "200f0e8d-65a7-43da-e11e-bab6b0313bda"
   },
   "outputs": [
    {
     "data": {
      "text/plain": [
       "('deed reason earthquake may allah forgive u',\n",
       " array([   0,    0,    0,    0,    0,    0,    0,    0,    0,    0,    0,\n",
       "           0,    0,    0,    0,    0,    0,    0,    0,    0,    0,    0,\n",
       "           0,    0,    0,    0,    0,    0,    0,    0,    0,    0,    0,\n",
       "           0,    0,    0,    0,    0,    0,    0,    0,    0,    0,    0,\n",
       "           0,    0,    0,    0,    0,    0,    0,    0,    0,    0,    0,\n",
       "           0,    0,    0,    0,    0,    0,    0,    0,    0,    0,    0,\n",
       "           0,    0,    0,    0,    0,    0,    0,    0,    0,    0,    0,\n",
       "           0,    0,    0,    0,    0,    0,    0,    0,    0,    0,    0,\n",
       "           0,    0,    0,    0,    0,    0,    0,    0,    0,    0,    0,\n",
       "           0,    0,    0,    0,    0,    0,    0,    0,    0,    0,    0,\n",
       "           0,    0,    0,    0,    0,    0,    0,    0,    0,    0,    0,\n",
       "           0,    0,    0,    0,    0,    0,    0,    0,    0,    0,    0,\n",
       "           0,    0,    0,    0,    0,    0,    0,    0,    0,    0,    0,\n",
       "           0,    0,    0,    0,    0,    0,    0, 4147,  524,   82,   87,\n",
       "        1468, 4148,    7], dtype=int32))"
      ]
     },
     "execution_count": 190,
     "metadata": {
      "tags": []
     },
     "output_type": "execute_result"
    }
   ],
   "source": [
    "train_tweet[0],train_padded[0]"
   ]
  },
  {
   "cell_type": "markdown",
   "metadata": {
    "colab_type": "text",
    "id": "bE0iR3pgXy6c"
   },
   "source": [
    "Model"
   ]
  },
  {
   "cell_type": "code",
   "execution_count": 0,
   "metadata": {
    "colab": {},
    "colab_type": "code",
    "id": "wFC2vjYBYGMA"
   },
   "outputs": [],
   "source": [
    "# corpus_size = len(word_index)+1\n",
    "# embedding_dim =128"
   ]
  },
  {
   "cell_type": "code",
   "execution_count": 0,
   "metadata": {
    "colab": {},
    "colab_type": "code",
    "id": "zgYnQKcdVHcl"
   },
   "outputs": [],
   "source": [
    "\n",
    "# train_padded = np.array(train_padded)\n",
    "# train_label = np.array(train_label)\n",
    "# test_padded = np.array(test_padded)"
   ]
  },
  {
   "cell_type": "code",
   "execution_count": 0,
   "metadata": {
    "colab": {
     "base_uri": "https://localhost:8080/",
     "height": 351
    },
    "colab_type": "code",
    "id": "xkWicsYaFmwz",
    "outputId": "24fb7567-3599-43af-bada-1121f32a79f7"
   },
   "outputs": [
    {
     "name": "stdout",
     "output_type": "stream",
     "text": [
      "--2020-05-11 14:24:10--  http://nlp.stanford.edu/data/glove.42B.300d.zip\n",
      "Resolving nlp.stanford.edu (nlp.stanford.edu)... 171.64.67.140\n",
      "Connecting to nlp.stanford.edu (nlp.stanford.edu)|171.64.67.140|:80... connected.\n",
      "HTTP request sent, awaiting response... 302 Found\n",
      "Location: https://nlp.stanford.edu/data/glove.42B.300d.zip [following]\n",
      "--2020-05-11 14:24:10--  https://nlp.stanford.edu/data/glove.42B.300d.zip\n",
      "Connecting to nlp.stanford.edu (nlp.stanford.edu)|171.64.67.140|:443... connected.\n",
      "HTTP request sent, awaiting response... 301 Moved Permanently\n",
      "Location: http://downloads.cs.stanford.edu/nlp/data/glove.42B.300d.zip [following]\n",
      "--2020-05-11 14:24:11--  http://downloads.cs.stanford.edu/nlp/data/glove.42B.300d.zip\n",
      "Resolving downloads.cs.stanford.edu (downloads.cs.stanford.edu)... 171.64.64.22\n",
      "Connecting to downloads.cs.stanford.edu (downloads.cs.stanford.edu)|171.64.64.22|:80... connected.\n",
      "HTTP request sent, awaiting response... 200 OK\n",
      "Length: 1877800501 (1.7G) [application/zip]\n",
      "Saving to: ‘glove.42B.300d.zip’\n",
      "\n",
      "glove.42B.300d.zip  100%[===================>]   1.75G  2.16MB/s    in 14m 33s \n",
      "\n",
      "2020-05-11 14:38:45 (2.05 MB/s) - ‘glove.42B.300d.zip’ saved [1877800501/1877800501]\n",
      "\n"
     ]
    }
   ],
   "source": [
    "!wget http://nlp.stanford.edu/data/glove.42B.300d.zip \n",
    "\n"
   ]
  },
  {
   "cell_type": "code",
   "execution_count": 0,
   "metadata": {
    "colab": {
     "base_uri": "https://localhost:8080/",
     "height": 50
    },
    "colab_type": "code",
    "id": "67-o0gzILcsW",
    "outputId": "b26f6e1a-2b89-4a7b-838f-7e38d8aa7949"
   },
   "outputs": [
    {
     "name": "stdout",
     "output_type": "stream",
     "text": [
      "Archive:  glove.42B.300d.zip\n",
      "  inflating: /content/drive/My Drive/Colab Notebooks/glove.42B.300d/glove.42B.300d.txt  \n"
     ]
    }
   ],
   "source": [
    "!unzip glove.42B.300d.zip  -d '/content/drive/My Drive/Colab Notebooks/glove.42B.300d'"
   ]
  },
  {
   "cell_type": "code",
   "execution_count": 0,
   "metadata": {
    "colab": {},
    "colab_type": "code",
    "id": "6DZgOrdcM3Hs"
   },
   "outputs": [],
   "source": [
    "#Glove Embedding\n",
    "embedding_dict={}\n",
    "with open('/content/drive/My Drive/Colab Notebooks/glove.42B.300d/glove.42B.300d.txt','r') as f:\n",
    "    for line in f:\n",
    "        values=line.split()\n",
    "        word = values[0]\n",
    "        vectors=np.asarray(values[1:],'float32')\n",
    "        embedding_dict[word]=vectors\n",
    "f.close()\n"
   ]
  },
  {
   "cell_type": "code",
   "execution_count": 71,
   "metadata": {
    "colab": {
     "base_uri": "https://localhost:8080/",
     "height": 34
    },
    "colab_type": "code",
    "id": "UgdnO4mzNSwg",
    "outputId": "9ae24e6a-c2bd-4d80-f7d3-78357d63fa2b"
   },
   "outputs": [
    {
     "data": {
      "text/plain": [
       "1917494"
      ]
     },
     "execution_count": 71,
     "metadata": {
      "tags": []
     },
     "output_type": "execute_result"
    }
   ],
   "source": [
    "len(embedding_dict)"
   ]
  },
  {
   "cell_type": "code",
   "execution_count": 0,
   "metadata": {
    "colab": {},
    "colab_type": "code",
    "id": "pDqXQFJuUnsw"
   },
   "outputs": [],
   "source": [
    "def build_vocab(tweet):\n",
    "  tweets = tweet.apply(lambda x:x.split()).values\n",
    "  vocab={}\n",
    "  # print(tweets)\n",
    "  for tweet in tweets:\n",
    "    for word in tweet:\n",
    "      try:\n",
    "        vocab[word]+=1\n",
    "      except KeyError:\n",
    "        vocab[word]=1\n",
    "  return vocab\n",
    "\n"
   ]
  },
  {
   "cell_type": "code",
   "execution_count": 0,
   "metadata": {
    "colab": {},
    "colab_type": "code",
    "id": "MXxS8xEXQxyx"
   },
   "outputs": [],
   "source": [
    "def check_embedding(tweet_vocab,embedding):\n",
    "  vocab = build_vocab(tweet_vocab)\n",
    "  # del vocab['<OOV>']\n",
    "  covered_words={}\n",
    "  oov_words={}\n",
    "  covered_count=0\n",
    "  oov_count=0\n",
    "  for word in vocab:\n",
    "    try:\n",
    "      covered_words[word] = embedding[word]\n",
    "      covered_count+=vocab[word]\n",
    "    except KeyError:\n",
    "      oov_words[word] = vocab[word]\n",
    "      oov_count+=vocab[word]\n",
    "  print(f'Words covered by glove embeddings : {covered_count}')\n",
    "  print(f'Words not covered by glove embeddings : {oov_count}')\n",
    "  print(f'Percentage of words covered by glove embeddings: {(covered_count/(covered_count+oov_count))*100}%')\n",
    "  return covered_words,oov_words\n"
   ]
  },
  {
   "cell_type": "code",
   "execution_count": 74,
   "metadata": {
    "colab": {
     "base_uri": "https://localhost:8080/",
     "height": 67
    },
    "colab_type": "code",
    "id": "GlKeaQvoSuC4",
    "outputId": "93944d14-3290-420f-dc5f-ba714610d9f1"
   },
   "outputs": [
    {
     "name": "stdout",
     "output_type": "stream",
     "text": [
      "Words covered by glove embeddings : 103363\n",
      "Words not covered by glove embeddings : 10154\n",
      "Percentage of words covered by glove embeddings: 91.05508426050723%\n"
     ]
    }
   ],
   "source": [
    "covered, oov = check_embedding(train_tweet,embedding_dict)"
   ]
  },
  {
   "cell_type": "code",
   "execution_count": 0,
   "metadata": {
    "colab": {
     "base_uri": "https://localhost:8080/",
     "height": 120
    },
    "colab_type": "code",
    "id": "SomJxJNiFy_E",
    "outputId": "8a01b983-f408-4e05-8488-8e8d31ddbba7"
   },
   "outputs": [
    {
     "name": "stdout",
     "output_type": "stream",
     "text": [
      "Go to this URL in a browser: https://accounts.google.com/o/oauth2/auth?client_id=947318989803-6bn6qk8qdgf4n4g3pfee6491hc0brc4i.apps.googleusercontent.com&redirect_uri=urn%3aietf%3awg%3aoauth%3a2.0%3aoob&response_type=code&scope=email%20https%3a%2f%2fwww.googleapis.com%2fauth%2fdocs.test%20https%3a%2f%2fwww.googleapis.com%2fauth%2fdrive%20https%3a%2f%2fwww.googleapis.com%2fauth%2fdrive.photos.readonly%20https%3a%2f%2fwww.googleapis.com%2fauth%2fpeopleapi.readonly\n",
      "\n",
      "Enter your authorization code:\n",
      "··········\n",
      "Mounted at /content/gdrive\n"
     ]
    }
   ],
   "source": [
    "from google.colab import drive\n",
    "drive.mount('/content/gdrive')"
   ]
  },
  {
   "cell_type": "code",
   "execution_count": 0,
   "metadata": {
    "colab": {},
    "colab_type": "code",
    "id": "p3XnlwsXVO91"
   },
   "outputs": [],
   "source": [
    "target_acc = .90\n",
    "class MyCallback(tf.keras.callbacks.Callback):\n",
    "    def on_epoch_end(self,epoch,logs=None):\n",
    "        if logs['accuracy'] and logs['val_accuracy']>=target_acc:\n",
    "            self.model.stop_training=True\n",
    "            print('Reached {} Model Accuracy'.format(target_acc))"
   ]
  },
  {
   "cell_type": "code",
   "execution_count": 0,
   "metadata": {
    "colab": {},
    "colab_type": "code",
    "id": "BH4Uhc01akzc"
   },
   "outputs": [],
   "source": [
    "embed_size = 300 # how big is each word vector\n",
    "maxlen = 20 # max number of words in a comment to use\n",
    "max_features = 20000"
   ]
  },
  {
   "cell_type": "code",
   "execution_count": 76,
   "metadata": {
    "colab": {
     "base_uri": "https://localhost:8080/",
     "height": 34
    },
    "colab_type": "code",
    "id": "3eteObMpoWfW",
    "outputId": "37ccbd13-ed55-41db-f490-590dc4a31e5e"
   },
   "outputs": [
    {
     "data": {
      "text/plain": [
       "(21086, 14600)"
      ]
     },
     "execution_count": 76,
     "metadata": {
      "tags": []
     },
     "output_type": "execute_result"
    }
   ],
   "source": [
    "len(word_index),len(covered)"
   ]
  },
  {
   "cell_type": "code",
   "execution_count": 0,
   "metadata": {
    "colab": {},
    "colab_type": "code",
    "id": "5SkZ8u5qal9d"
   },
   "outputs": [],
   "source": [
    "num_words = min(max_features, len(word_index)) + 1\n",
    "embedding_dim = 300\n",
    "# first create a matrix of zeros, this is our embedding matrix\n",
    "embedding_matrix = np.zeros((num_words, embedding_dim))\n",
    "# for each word in out tokenizer lets try to find that work in our w2v model\n",
    "for word, i in word_index.items():\n",
    "    if i > max_features:\n",
    "        continue\n",
    "    embedding_vector = covered.get(word)\n",
    "    if embedding_vector is not None:\n",
    "        # we found the word - add that words vector to the matrix\n",
    "        embedding_matrix[i] = embedding_vector"
   ]
  },
  {
   "cell_type": "code",
   "execution_count": 0,
   "metadata": {
    "colab": {},
    "colab_type": "code",
    "id": "XsDSdYctpeSX"
   },
   "outputs": [],
   "source": [
    "from keras.initializers import Constant"
   ]
  },
  {
   "cell_type": "code",
   "execution_count": 80,
   "metadata": {
    "colab": {
     "base_uri": "https://localhost:8080/",
     "height": 420
    },
    "colab_type": "code",
    "id": "BYeMrt5yXCb3",
    "outputId": "59120987-68bb-42b2-e596-81d5f9db511e"
   },
   "outputs": [
    {
     "name": "stdout",
     "output_type": "stream",
     "text": [
      "Model: \"sequential\"\n",
      "_________________________________________________________________\n",
      "Layer (type)                 Output Shape              Param #   \n",
      "=================================================================\n",
      "embedding (Embedding)        (None, 20, 300)           6000300   \n",
      "_________________________________________________________________\n",
      "spatial_dropout1d (SpatialDr (None, 20, 300)           0         \n",
      "_________________________________________________________________\n",
      "bidirectional (Bidirectional (None, 20, 256)           439296    \n",
      "_________________________________________________________________\n",
      "bidirectional_1 (Bidirection (None, 128)               164352    \n",
      "_________________________________________________________________\n",
      "dropout (Dropout)            (None, 128)               0         \n",
      "_________________________________________________________________\n",
      "dense (Dense)                (None, 32)                4128      \n",
      "_________________________________________________________________\n",
      "dense_1 (Dense)              (None, 8)                 264       \n",
      "_________________________________________________________________\n",
      "dense_2 (Dense)              (None, 1)                 9         \n",
      "=================================================================\n",
      "Total params: 6,608,349\n",
      "Trainable params: 608,049\n",
      "Non-trainable params: 6,000,300\n",
      "_________________________________________________________________\n"
     ]
    }
   ],
   "source": [
    "\n",
    "model = tf.keras.Sequential([\n",
    "    tf.keras.layers.Embedding(num_words,\n",
    "                    embedding_dim,\n",
    "                    embeddings_initializer=Constant(embedding_matrix),\n",
    "                    input_length=maxlen,\n",
    "                    trainable=False),\n",
    "    tf.keras.layers.SpatialDropout1D(0.2),\n",
    "    tf.keras.layers.Bidirectional(tf.keras.layers.LSTM(128, return_sequences=True)),\n",
    "    tf.keras.layers.Bidirectional(tf.keras.layers.LSTM(64)),\n",
    "    tf.keras.layers.Dropout(0.10),\n",
    "    tf.keras.layers.Dense(units=32, activation=\"relu\"),\n",
    "    tf.keras.layers.Dense(units=8, activation=\"relu\"),\n",
    "    tf.keras.layers.Dense(units=1, activation=\"sigmoid\")\n",
    "    \n",
    "    \n",
    "])\n",
    "model.compile(optimizer=RMSprop(lr=0.001),loss='binary_crossentropy',metrics=['accuracy'])\n",
    "model.summary()"
   ]
  },
  {
   "cell_type": "code",
   "execution_count": 0,
   "metadata": {
    "colab": {},
    "colab_type": "code",
    "id": "Az4JAMzMUF7k"
   },
   "outputs": [],
   "source": [
    "X_train = train_padded[:7613]\n",
    "X_test = train_padded[7613:]\n",
    "y_train = train_label[:7613]\n"
   ]
  },
  {
   "cell_type": "code",
   "execution_count": 83,
   "metadata": {
    "colab": {
     "base_uri": "https://localhost:8080/",
     "height": 34
    },
    "colab_type": "code",
    "id": "1mMf4AODUU0f",
    "outputId": "5ac28d58-547a-44ae-947d-2d1496d0b924"
   },
   "outputs": [
    {
     "data": {
      "text/plain": [
       "numpy.ndarray"
      ]
     },
     "execution_count": 83,
     "metadata": {
      "tags": []
     },
     "output_type": "execute_result"
    }
   ],
   "source": [
    "type(train_padded)"
   ]
  },
  {
   "cell_type": "code",
   "execution_count": 90,
   "metadata": {
    "colab": {
     "base_uri": "https://localhost:8080/",
     "height": 742
    },
    "colab_type": "code",
    "id": "uR8G_aaCZHdm",
    "outputId": "598dd7e5-3a88-4734-e433-9437f64689e9"
   },
   "outputs": [
    {
     "name": "stdout",
     "output_type": "stream",
     "text": [
      "Epoch 1/20\n",
      "WARNING:tensorflow:Model was constructed with shape (None, 20) for input Tensor(\"embedding_input:0\", shape=(None, 20), dtype=float32), but it was called on an input with incompatible shape (None, 157).\n",
      "WARNING:tensorflow:Model was constructed with shape (None, 20) for input Tensor(\"embedding_input:0\", shape=(None, 20), dtype=float32), but it was called on an input with incompatible shape (None, 157).\n",
      "60/60 [==============================] - 9s 151ms/step - loss: 0.5042 - accuracy: 0.7616 - lr: 0.0010\n",
      "Epoch 2/20\n",
      "60/60 [==============================] - 9s 147ms/step - loss: 0.4442 - accuracy: 0.8011 - lr: 0.0010\n",
      "Epoch 3/20\n",
      "60/60 [==============================] - 9s 147ms/step - loss: 0.4173 - accuracy: 0.8151 - lr: 0.0010\n",
      "Epoch 4/20\n",
      "60/60 [==============================] - 9s 147ms/step - loss: 0.3985 - accuracy: 0.8194 - lr: 0.0010\n",
      "Epoch 5/20\n",
      "60/60 [==============================] - 9s 147ms/step - loss: 0.3832 - accuracy: 0.8313 - lr: 0.0010\n",
      "Epoch 6/20\n",
      "60/60 [==============================] - 9s 146ms/step - loss: 0.3713 - accuracy: 0.8363 - lr: 0.0010\n",
      "Epoch 7/20\n",
      "60/60 [==============================] - 9s 146ms/step - loss: 0.3507 - accuracy: 0.8450 - lr: 0.0010\n",
      "Epoch 8/20\n",
      "60/60 [==============================] - 9s 146ms/step - loss: 0.3401 - accuracy: 0.8534 - lr: 0.0010\n",
      "Epoch 9/20\n",
      "60/60 [==============================] - 9s 147ms/step - loss: 0.3197 - accuracy: 0.8631 - lr: 0.0010\n",
      "Epoch 10/20\n",
      "60/60 [==============================] - 9s 146ms/step - loss: 0.3048 - accuracy: 0.8705 - lr: 0.0010\n",
      "Epoch 11/20\n",
      "60/60 [==============================] - 9s 146ms/step - loss: 0.2900 - accuracy: 0.8756 - lr: 0.0010\n",
      "Epoch 12/20\n",
      "60/60 [==============================] - 9s 146ms/step - loss: 0.2696 - accuracy: 0.8865 - lr: 0.0010\n",
      "Epoch 13/20\n",
      "60/60 [==============================] - 9s 147ms/step - loss: 0.2537 - accuracy: 0.8943 - lr: 0.0010\n",
      "Epoch 14/20\n",
      "60/60 [==============================] - 9s 146ms/step - loss: 0.2356 - accuracy: 0.9038 - lr: 0.0010\n",
      "Epoch 15/20\n",
      "60/60 [==============================] - 9s 146ms/step - loss: 0.2182 - accuracy: 0.9099 - lr: 0.0010\n",
      "Epoch 16/20\n",
      "60/60 [==============================] - 9s 147ms/step - loss: 0.1991 - accuracy: 0.9175 - lr: 0.0010\n",
      "Epoch 17/20\n",
      "60/60 [==============================] - 9s 146ms/step - loss: 0.1890 - accuracy: 0.9232 - lr: 0.0010\n",
      "Epoch 18/20\n",
      "60/60 [==============================] - 9s 147ms/step - loss: 0.1771 - accuracy: 0.9296 - lr: 0.0010\n",
      "Epoch 19/20\n",
      "60/60 [==============================] - 9s 146ms/step - loss: 0.1628 - accuracy: 0.9356 - lr: 0.0010\n",
      "Epoch 20/20\n",
      "60/60 [==============================] - 9s 147ms/step - loss: 0.1434 - accuracy: 0.9418 - lr: 0.0010\n"
     ]
    }
   ],
   "source": [
    "EPOCHS = 20\n",
    "lrReduce = ReduceLROnPlateau(factor=0.1,patience=1,verbose=1,min_delta=0.00001,monitor='accuracy')\n",
    "history = model.fit(X_train,y_train,batch_size=128,epochs=EPOCHS,callbacks=[lrReduce])"
   ]
  },
  {
   "cell_type": "code",
   "execution_count": 0,
   "metadata": {
    "colab": {},
    "colab_type": "code",
    "id": "QQVxrxoOb94v"
   },
   "outputs": [],
   "source": [
    "y_pred = model.predict_classes(test_padded)"
   ]
  },
  {
   "cell_type": "code",
   "execution_count": 0,
   "metadata": {
    "colab": {
     "base_uri": "https://localhost:8080/",
     "height": 53
    },
    "colab_type": "code",
    "id": "P5sT6aaLtHyv",
    "outputId": "1c34f5d7-9f44-44f9-e2a2-c509d7d2e94d"
   },
   "outputs": [
    {
     "name": "stdout",
     "output_type": "stream",
     "text": [
      "WARNING:tensorflow:Model was constructed with shape (None, 20) for input Tensor(\"embedding_6_input:0\", shape=(None, 20), dtype=float32), but it was called on an input with incompatible shape (None, 157).\n"
     ]
    }
   ],
   "source": [
    "y_pred = model.predict(test_padded)"
   ]
  },
  {
   "cell_type": "code",
   "execution_count": 0,
   "metadata": {
    "colab": {
     "base_uri": "https://localhost:8080/",
     "height": 167
    },
    "colab_type": "code",
    "id": "tDw2ZrIalYPf",
    "outputId": "271596ec-85ea-4a12-cec8-17a62e892638"
   },
   "outputs": [
    {
     "data": {
      "text/plain": [
       "array([[8.4335893e-01],\n",
       "       [6.5053397e-01],\n",
       "       [9.9932420e-01],\n",
       "       [9.9647433e-01],\n",
       "       [9.9748683e-01],\n",
       "       [2.5979412e-01],\n",
       "       [2.1668947e-04],\n",
       "       [3.8839266e-02],\n",
       "       [3.0484607e-02]], dtype=float32)"
      ]
     },
     "execution_count": 278,
     "metadata": {
      "tags": []
     },
     "output_type": "execute_result"
    }
   ],
   "source": [
    "y_pred[:9]"
   ]
  },
  {
   "cell_type": "code",
   "execution_count": 0,
   "metadata": {
    "colab": {},
    "colab_type": "code",
    "id": "BVwGFUcCl9HT"
   },
   "outputs": [],
   "source": [
    "submission = pd.read_csv(\"sample_submission.csv\")\n"
   ]
  },
  {
   "cell_type": "code",
   "execution_count": 0,
   "metadata": {
    "colab": {},
    "colab_type": "code",
    "id": "LBiAJNl0mH0z"
   },
   "outputs": [],
   "source": [
    "submission['target'] = y_pred"
   ]
  },
  {
   "cell_type": "code",
   "execution_count": 0,
   "metadata": {
    "colab": {
     "base_uri": "https://localhost:8080/",
     "height": 196
    },
    "colab_type": "code",
    "id": "2yD7EVAJmLhV",
    "outputId": "f4a44b6e-689c-451f-b9e7-131374cb2a17"
   },
   "outputs": [
    {
     "data": {
      "text/html": [
       "<div>\n",
       "<style scoped>\n",
       "    .dataframe tbody tr th:only-of-type {\n",
       "        vertical-align: middle;\n",
       "    }\n",
       "\n",
       "    .dataframe tbody tr th {\n",
       "        vertical-align: top;\n",
       "    }\n",
       "\n",
       "    .dataframe thead th {\n",
       "        text-align: right;\n",
       "    }\n",
       "</style>\n",
       "<table border=\"1\" class=\"dataframe\">\n",
       "  <thead>\n",
       "    <tr style=\"text-align: right;\">\n",
       "      <th></th>\n",
       "      <th>id</th>\n",
       "      <th>target</th>\n",
       "    </tr>\n",
       "  </thead>\n",
       "  <tbody>\n",
       "    <tr>\n",
       "      <th>0</th>\n",
       "      <td>0</td>\n",
       "      <td>1</td>\n",
       "    </tr>\n",
       "    <tr>\n",
       "      <th>1</th>\n",
       "      <td>2</td>\n",
       "      <td>1</td>\n",
       "    </tr>\n",
       "    <tr>\n",
       "      <th>2</th>\n",
       "      <td>3</td>\n",
       "      <td>1</td>\n",
       "    </tr>\n",
       "    <tr>\n",
       "      <th>3</th>\n",
       "      <td>9</td>\n",
       "      <td>1</td>\n",
       "    </tr>\n",
       "    <tr>\n",
       "      <th>4</th>\n",
       "      <td>11</td>\n",
       "      <td>1</td>\n",
       "    </tr>\n",
       "  </tbody>\n",
       "</table>\n",
       "</div>"
      ],
      "text/plain": [
       "   id  target\n",
       "0   0       1\n",
       "1   2       1\n",
       "2   3       1\n",
       "3   9       1\n",
       "4  11       1"
      ]
     },
     "execution_count": 305,
     "metadata": {
      "tags": []
     },
     "output_type": "execute_result"
    }
   ],
   "source": [
    "submission.head()"
   ]
  },
  {
   "cell_type": "code",
   "execution_count": 0,
   "metadata": {
    "colab": {},
    "colab_type": "code",
    "id": "xdJnW0BEmNQl"
   },
   "outputs": [],
   "source": [
    "submission.to_csv('submission.csv',index=False)"
   ]
  },
  {
   "cell_type": "code",
   "execution_count": 0,
   "metadata": {
    "colab": {
     "base_uri": "https://localhost:8080/",
     "height": 67
    },
    "colab_type": "code",
    "id": "7oL7Ckswml1Z",
    "outputId": "7ce996d7-b951-454b-bc17-10b56bf3ec38"
   },
   "outputs": [
    {
     "name": "stdout",
     "output_type": "stream",
     "text": [
      "Warning: Looks like you're using an outdated API Version, please consider updating (server 1.5.6 / client 1.5.4)\n",
      "100% 22.2k/22.2k [00:02<00:00, 8.68kB/s]\n",
      "Successfully submitted to Real or Not? NLP with Disaster Tweets"
     ]
    }
   ],
   "source": [
    "!kaggle competitions submit nlp-getting-started -f submission.csv -m \"My submission\""
   ]
  },
  {
   "cell_type": "markdown",
   "metadata": {
    "colab_type": "text",
    "id": "ip9Wrp6JdZ0N"
   },
   "source": [
    "<a id='item5'></a>"
   ]
  },
  {
   "cell_type": "code",
   "execution_count": 0,
   "metadata": {
    "colab": {},
    "colab_type": "code",
    "id": "Z_kOWi8Jmzfe"
   },
   "outputs": [],
   "source": [
    "from sklearn.naive_bayes import MultinomialNB\n",
    "from sklearn.neighbors import KNeighborsClassifier\n",
    "from sklearn.svm import SVC\n",
    "from sklearn.ensemble import RandomForestClassifier, AdaBoostClassifier, GradientBoostingClassifier\n",
    "from sklearn.model_selection import train_test_split\n",
    "from sklearn.linear_model import LogisticRegression, RidgeClassifier\n"
   ]
  },
  {
   "cell_type": "code",
   "execution_count": 0,
   "metadata": {
    "colab": {},
    "colab_type": "code",
    "id": "HxnO-iY7Osaw"
   },
   "outputs": [],
   "source": [
    "def trainTestSplit(train,label):\n",
    "    return train_test_split(train,label,test_size=0.2,random_state=42)\n"
   ]
  },
  {
   "cell_type": "code",
   "execution_count": 0,
   "metadata": {
    "colab": {},
    "colab_type": "code",
    "id": "H3yvjWwDPV7s"
   },
   "outputs": [],
   "source": [
    "\n",
    "clfs = [MultinomialNB(), LogisticRegression(), RidgeClassifier(),RandomForestClassifier(), AdaBoostClassifier(), GradientBoostingClassifier()]\n",
    "# clfs = [RandomForestClassifier(), AdaBoostClassifier(), GradientBoostingClassifier()]\n",
    "\n",
    "\n",
    "\n"
   ]
  },
  {
   "cell_type": "code",
   "execution_count": 0,
   "metadata": {
    "colab": {},
    "colab_type": "code",
    "id": "MHiI8EmpPxf-"
   },
   "outputs": [],
   "source": [
    "def doModel(x,y):\n",
    "  X_train,X_valid, y_train,y_valid = trainTestSplit(x,y)\n",
    "  print(X_train.shape)\n",
    "  # X_train = X_train.reshape(X_train.shape[0],100)\n",
    "  # X_valid = X_valid.reshape(X_valid.shape[0],100)\n",
    "  print(X_train.shape)\n",
    "  for clf in clfs:\n",
    "      clf.fit(X_train,y_train)\n",
    "      train_score = clf.score(X_train,y_train)\n",
    "      valid_score = clf.score(X_valid,y_valid)\n",
    "      print(clf.__class__.__name__+'Training Score is {} and Validation Score is {}'.format(train_score,valid_score))\n"
   ]
  },
  {
   "cell_type": "code",
   "execution_count": 0,
   "metadata": {
    "colab": {},
    "colab_type": "code",
    "id": "RqzbfwdDbe9S"
   },
   "outputs": [],
   "source": [
    "ml_train = train_tweet[:7613]"
   ]
  },
  {
   "cell_type": "code",
   "execution_count": 0,
   "metadata": {
    "colab": {},
    "colab_type": "code",
    "id": "SUcNC4f3bw6x"
   },
   "outputs": [],
   "source": [
    "train_corpus = ml_train.tolist()\n"
   ]
  },
  {
   "cell_type": "code",
   "execution_count": 100,
   "metadata": {
    "colab": {
     "base_uri": "https://localhost:8080/",
     "height": 151
    },
    "colab_type": "code",
    "id": "EiGmrChvBQFW",
    "outputId": "e8107e96-c091-4ecb-a343-3c5c8aab62b7"
   },
   "outputs": [
    {
     "name": "stdout",
     "output_type": "stream",
     "text": [
      "(6090, 8000)\n",
      "(6090, 8000)\n",
      "MultinomialNBTraining Score is 0.8543513957307061 and Validation Score is 0.7997373604727511\n",
      "LogisticRegressionTraining Score is 0.9251231527093596 and Validation Score is 0.7925147734734077\n",
      "RidgeClassifierTraining Score is 0.9566502463054187 and Validation Score is 0.762967826657912\n",
      "RandomForestClassifierTraining Score is 0.9860426929392446 and Validation Score is 0.7715036112934996\n",
      "AdaBoostClassifierTraining Score is 0.768144499178982 and Validation Score is 0.7491792514773473\n",
      "GradientBoostingClassifierTraining Score is 0.7722495894909688 and Validation Score is 0.7386736703873933\n"
     ]
    }
   ],
   "source": [
    "cv = CountVectorizer(max_features=8000,ngram_range=(1,3))\n",
    "cv_x = cv.fit_transform(train_corpus)\n",
    "doModel(cv_x,y_train)"
   ]
  },
  {
   "cell_type": "code",
   "execution_count": 102,
   "metadata": {
    "colab": {
     "base_uri": "https://localhost:8080/",
     "height": 151
    },
    "colab_type": "code",
    "id": "BAGhx4b7DTnZ",
    "outputId": "34649328-12ed-44aa-8cc2-0d0d8521baac"
   },
   "outputs": [
    {
     "name": "stdout",
     "output_type": "stream",
     "text": [
      "(6090, 6000)\n",
      "(6090, 6000)\n",
      "MultinomialNBTraining Score is 0.8492610837438423 and Validation Score is 0.7997373604727511\n",
      "LogisticRegressionTraining Score is 0.865024630541872 and Validation Score is 0.7951411687458962\n",
      "RidgeClassifierTraining Score is 0.90311986863711 and Validation Score is 0.7905449770190414\n",
      "RandomForestClassifierTraining Score is 0.9853858784893268 and Validation Score is 0.7846355876559422\n",
      "AdaBoostClassifierTraining Score is 0.7683087027914615 and Validation Score is 0.7458962573867367\n",
      "GradientBoostingClassifierTraining Score is 0.7719211822660098 and Validation Score is 0.7413000656598818\n"
     ]
    }
   ],
   "source": [
    "tf = TfidfVectorizer(max_features=6000,ngram_range=(1,3))\n",
    "tf_x = tf.fit_transform(train_corpus).toarray()\n",
    "doModel(tf_x,y_train)\n",
    "\n"
   ]
  },
  {
   "cell_type": "code",
   "execution_count": 0,
   "metadata": {
    "colab": {},
    "colab_type": "code",
    "id": "OaIt9bg2I_QQ"
   },
   "outputs": [],
   "source": [
    "from gensim.models import Word2Vec,word2vec\n"
   ]
  },
  {
   "cell_type": "markdown",
   "metadata": {
    "colab_type": "text",
    "id": "peXtQX30tYH3"
   },
   "source": [
    "Create the list of words"
   ]
  },
  {
   "cell_type": "code",
   "execution_count": 0,
   "metadata": {
    "colab": {},
    "colab_type": "code",
    "id": "Q4WsTugHtZmi"
   },
   "outputs": [],
   "source": [
    "list_words=[]\n",
    "for sent in train_corpus:\n",
    "  list_words.append(sent.split())"
   ]
  },
  {
   "cell_type": "code",
   "execution_count": 0,
   "metadata": {
    "colab": {
     "base_uri": "https://localhost:8080/",
     "height": 33
    },
    "colab_type": "code",
    "id": "sscU6a0ztgS1",
    "outputId": "e44c217e-0b5c-4248-813b-6d72545193fa"
   },
   "outputs": [
    {
     "data": {
      "text/plain": [
       "7613"
      ]
     },
     "execution_count": 40,
     "metadata": {
      "tags": []
     },
     "output_type": "execute_result"
    }
   ],
   "source": [
    "len(list_words)"
   ]
  },
  {
   "cell_type": "markdown",
   "metadata": {
    "colab_type": "text",
    "id": "SSKzwWpVtqfZ"
   },
   "source": [
    "Building a COW model"
   ]
  },
  {
   "cell_type": "code",
   "execution_count": 0,
   "metadata": {
    "colab": {},
    "colab_type": "code",
    "id": "qvpRLbzCL1v4"
   },
   "outputs": [],
   "source": [
    "num_features = 300  # Word vector dimensionality\n",
    "min_word_count = 40 # Minimum word count\n",
    "num_workers = 4     # Number of parallel threads\n",
    "context = 10        # Context window size\n",
    "downsampling = 1e-3 # (0.001) Downsample setting for frequent words"
   ]
  },
  {
   "cell_type": "code",
   "execution_count": 0,
   "metadata": {
    "colab": {
     "base_uri": "https://localhost:8080/",
     "height": 33
    },
    "colab_type": "code",
    "id": "QvEEqlncLy5P",
    "outputId": "0cf64ce9-1da0-4786-9cba-7b663c0f999f"
   },
   "outputs": [
    {
     "name": "stdout",
     "output_type": "stream",
     "text": [
      "Training model....\n"
     ]
    }
   ],
   "source": [
    "print(\"Training model....\")\n",
    "model = word2vec.Word2Vec(list_words,\\\n",
    "                          workers=num_workers,\\\n",
    "                          size=num_features,\\\n",
    "                          min_count=min_word_count,\\\n",
    "                          window=context,\n",
    "                          sample=downsampling)"
   ]
  },
  {
   "cell_type": "code",
   "execution_count": 0,
   "metadata": {
    "colab": {},
    "colab_type": "code",
    "id": "_2tXJUFSut7_"
   },
   "outputs": [],
   "source": [
    "model = Word2Vec(size=100, window=5, min_count=30, sg=0)"
   ]
  },
  {
   "cell_type": "code",
   "execution_count": 0,
   "metadata": {
    "colab": {},
    "colab_type": "code",
    "id": "iDivzGsMu4vE"
   },
   "outputs": [],
   "source": [
    "model.build_vocab(list_words)"
   ]
  },
  {
   "cell_type": "code",
   "execution_count": 0,
   "metadata": {
    "colab": {
     "base_uri": "https://localhost:8080/",
     "height": 34
    },
    "colab_type": "code",
    "id": "2GSAV2E3u8Ci",
    "outputId": "9847b2d0-a623-43c2-c12f-abb8e14bd658"
   },
   "outputs": [
    {
     "data": {
      "text/plain": [
       "7613"
      ]
     },
     "execution_count": 135,
     "metadata": {
      "tags": []
     },
     "output_type": "execute_result"
    }
   ],
   "source": [
    "model.corpus_count"
   ]
  },
  {
   "cell_type": "code",
   "execution_count": 0,
   "metadata": {
    "colab": {
     "base_uri": "https://localhost:8080/",
     "height": 34
    },
    "colab_type": "code",
    "id": "YQQ29AmtvDPu",
    "outputId": "4b959863-d83f-4e6a-f440-985324080eb1"
   },
   "outputs": [
    {
     "data": {
      "text/plain": [
       "(3907703, 9675400)"
      ]
     },
     "execution_count": 136,
     "metadata": {
      "tags": []
     },
     "output_type": "execute_result"
    }
   ],
   "source": [
    "\n",
    "model.train(list_words,total_examples=model.corpus_count,epochs=100)"
   ]
  },
  {
   "cell_type": "code",
   "execution_count": 0,
   "metadata": {
    "colab": {
     "base_uri": "https://localhost:8080/",
     "height": 104
    },
    "colab_type": "code",
    "id": "hNj_LJme29lt",
    "outputId": "cc83816e-054f-4722-bf1e-f50da8f5934c"
   },
   "outputs": [
    {
     "name": "stderr",
     "output_type": "stream",
     "text": [
      "/usr/local/lib/python3.6/dist-packages/ipykernel_launcher.py:10: DeprecationWarning: Call to deprecated `__getitem__` (Method will be removed in 4.0.0, use self.wv.__getitem__() instead).\n",
      "  # Remove the CWD from sys.path while we load stuff.\n",
      "/usr/local/lib/python3.6/dist-packages/ipykernel_launcher.py:14: RuntimeWarning: invalid value encountered in true_divide\n",
      "  \n"
     ]
    }
   ],
   "source": [
    "features= []\n",
    "for i in range(len(list_words)):\n",
    "    t2 = list_words[i]\n",
    "    z = np.zeros((1,300))\n",
    "    k=0\n",
    "    index2word_set = set(model.wv.index2word)\n",
    "    for j in range(len(t2)):\n",
    "        try:\n",
    "          if t2[j] in index2word_set:\n",
    "              z = np.add(z,model[t2[j]])\n",
    "              k= k+1\n",
    "        except KeyError:\n",
    "            continue\n",
    "    features.append(np.nan_to_num(z/k))"
   ]
  },
  {
   "cell_type": "code",
   "execution_count": 0,
   "metadata": {
    "colab": {},
    "colab_type": "code",
    "id": "lVb05EgxJ3Rq"
   },
   "outputs": [],
   "source": [
    "def featureVecMethod(words, model, num_features):\n",
    "    # Pre-initialising empty numpy array for speed\n",
    "    featureVec = np.zeros(num_features,dtype=\"float32\")\n",
    "    nwords = 0\n",
    "    \n",
    "    #Converting Index2Word which is a list to a set for better speed in the execution.\n",
    "    index2word_set = set(model.wv.index2word)\n",
    "    \n",
    "    for word in  words:\n",
    "        if word in index2word_set:\n",
    "            nwords = nwords + 1\n",
    "            featureVec = np.add(featureVec,model[word])\n",
    "    \n",
    "    # Dividing the result by number of words to get average\n",
    "    featureVec = np.divide(featureVec, nwords)\n",
    "    return featureVec"
   ]
  },
  {
   "cell_type": "code",
   "execution_count": 0,
   "metadata": {
    "colab": {},
    "colab_type": "code",
    "id": "nAgMbyPoJ_VS"
   },
   "outputs": [],
   "source": [
    "def getAvgFeatureVecs(reviews, model, num_features):\n",
    "    counter = 0\n",
    "    reviewFeatureVecs = np.zeros((len(reviews),num_features),dtype=\"float32\")\n",
    "    for review in reviews:\n",
    "        # Printing a status message every 1000th review\n",
    "        if counter%1000 == 0:\n",
    "            print(\"Review %d of %d\"%(counter,len(reviews)))\n",
    "            \n",
    "        reviewFeatureVecs[counter] = featureVecMethod(review, model, num_features)\n",
    "        counter = counter+1\n",
    "        \n",
    "    return reviewFeatureVecs"
   ]
  },
  {
   "cell_type": "code",
   "execution_count": 0,
   "metadata": {
    "colab": {
     "base_uri": "https://localhost:8080/",
     "height": 238
    },
    "colab_type": "code",
    "id": "1m4AYv3aLJrd",
    "outputId": "a9a797b1-c1ef-4c2c-9727-3f537de70fa3"
   },
   "outputs": [
    {
     "name": "stdout",
     "output_type": "stream",
     "text": [
      "Review 0 of 7613\n",
      "Review 1000 of 7613\n",
      "Review 2000 of 7613\n"
     ]
    },
    {
     "name": "stderr",
     "output_type": "stream",
     "text": [
      "/usr/local/lib/python3.6/dist-packages/ipykernel_launcher.py:12: DeprecationWarning: Call to deprecated `__getitem__` (Method will be removed in 4.0.0, use self.wv.__getitem__() instead).\n",
      "  if sys.path[0] == '':\n",
      "/usr/local/lib/python3.6/dist-packages/ipykernel_launcher.py:15: RuntimeWarning: invalid value encountered in true_divide\n",
      "  from ipykernel import kernelapp as app\n"
     ]
    },
    {
     "name": "stdout",
     "output_type": "stream",
     "text": [
      "Review 3000 of 7613\n",
      "Review 4000 of 7613\n",
      "Review 5000 of 7613\n",
      "Review 6000 of 7613\n",
      "Review 7000 of 7613\n"
     ]
    }
   ],
   "source": [
    "    \n",
    "trainDataVecs = getAvgFeatureVecs(list_words, model, 300)"
   ]
  },
  {
   "cell_type": "code",
   "execution_count": 0,
   "metadata": {
    "colab": {
     "base_uri": "https://localhost:8080/",
     "height": 34
    },
    "colab_type": "code",
    "id": "xsU4Q4V8LT2D",
    "outputId": "82017b23-c906-418d-c1cc-d519ee128927"
   },
   "outputs": [
    {
     "data": {
      "text/plain": [
       "3000"
      ]
     },
     "execution_count": 132,
     "metadata": {
      "tags": []
     },
     "output_type": "execute_result"
    }
   ],
   "source": [
    "np.isnan(trainDataVecs).sum()\n"
   ]
  },
  {
   "cell_type": "code",
   "execution_count": 0,
   "metadata": {
    "colab": {
     "base_uri": "https://localhost:8080/",
     "height": 34
    },
    "colab_type": "code",
    "id": "oFpbVLaB3Vq2",
    "outputId": "e3461d23-23bc-4ba3-e550-dc2f9818f7b7"
   },
   "outputs": [
    {
     "data": {
      "text/plain": [
       "'deed reason earthquake may allah forgive u'"
      ]
     },
     "execution_count": 86,
     "metadata": {
      "tags": []
     },
     "output_type": "execute_result"
    }
   ],
   "source": [
    "train_corpus[0]"
   ]
  },
  {
   "cell_type": "code",
   "execution_count": 0,
   "metadata": {
    "colab": {
     "base_uri": "https://localhost:8080/",
     "height": 507
    },
    "colab_type": "code",
    "id": "JapxgSGZ3aa8",
    "outputId": "975f5a15-a76c-4b20-ae6a-c570ee998d54"
   },
   "outputs": [
    {
     "name": "stderr",
     "output_type": "stream",
     "text": [
      "/usr/local/lib/python3.6/dist-packages/ipykernel_launcher.py:1: DeprecationWarning: Call to deprecated `__getitem__` (Method will be removed in 4.0.0, use self.wv.__getitem__() instead).\n",
      "  \"\"\"Entry point for launching an IPython kernel.\n"
     ]
    },
    {
     "data": {
      "text/plain": [
       "array([ 1.2492356e+00,  1.5110336e-01, -1.0372769e+00,  1.2827884e+00,\n",
       "        1.1006128e+00,  3.6341971e-01,  1.6746952e-01,  3.9335859e-01,\n",
       "       -5.5464578e-01,  5.1854298e-02,  1.3268600e+00,  2.2280963e-02,\n",
       "       -5.3962839e-01, -1.0034665e+00,  5.9694964e-01,  1.0230263e+00,\n",
       "        1.1363341e+00, -6.3833153e-01,  4.1062217e-02, -9.7495830e-01,\n",
       "       -2.0249788e-01, -1.1710902e-01, -6.3567775e-01,  7.7382213e-01,\n",
       "        8.3618712e-01,  8.1777394e-01, -3.4881315e-01, -9.1492224e-01,\n",
       "       -1.1361679e+00, -2.6904345e-01, -1.6666001e+00,  2.4831219e+00,\n",
       "        3.1912285e-01, -5.1683956e-01,  2.6017613e+00,  1.7729881e+00,\n",
       "       -3.7076131e-02, -9.5552832e-01, -1.7929164e+00, -6.8492311e-01,\n",
       "       -6.3257420e-01,  9.1208124e-01, -1.5551491e+00,  9.3012500e-01,\n",
       "        1.2795894e+00, -5.7743347e-01,  1.4376429e-01,  5.1170148e-02,\n",
       "        1.7259054e+00, -6.9620293e-01,  5.7481050e-02,  5.5937999e-01,\n",
       "        8.5697725e-02, -1.1963296e+00,  9.6775317e-01,  8.8948548e-02,\n",
       "       -7.2393134e-02,  4.9608511e-01, -9.3943745e-01,  1.0899979e+00,\n",
       "       -1.7829807e+00,  6.2621349e-01, -3.1411913e-01, -1.1408757e+00,\n",
       "       -1.0539975e+00,  1.2649893e+00, -2.4559882e-01, -5.4669242e-02,\n",
       "        7.8957729e-02,  1.5144113e+00, -1.0208702e+00,  3.9145908e-01,\n",
       "        2.2389529e-02,  1.6223584e+00, -2.0621870e-01,  1.7021749e+00,\n",
       "       -2.0797056e-01,  4.8455575e-01,  8.7922871e-01,  4.6308005e-01,\n",
       "        6.6751766e-01,  2.1185553e+00,  5.0191462e-01,  7.5816226e-01,\n",
       "       -4.2009276e-01,  1.2958540e+00,  9.1212356e-01,  2.8464043e+00,\n",
       "       -7.0467561e-01,  7.1654987e-01, -1.5601213e+00, -4.2923698e-01,\n",
       "       -1.1306276e-01, -8.4041327e-02,  2.9396540e-01,  1.2817987e+00,\n",
       "       -4.6742561e-01, -9.4432288e-01,  4.5869820e-04, -1.8383032e-01],\n",
       "      dtype=float32)"
      ]
     },
     "execution_count": 60,
     "metadata": {
      "tags": []
     },
     "output_type": "execute_result"
    }
   ],
   "source": [
    "model['may']"
   ]
  },
  {
   "cell_type": "code",
   "execution_count": 0,
   "metadata": {
    "colab": {
     "base_uri": "https://localhost:8080/",
     "height": 507
    },
    "colab_type": "code",
    "id": "1Ot_expfvTob",
    "outputId": "e7ab475f-0d39-4cfe-ea04-9dd039c0b189"
   },
   "outputs": [
    {
     "name": "stderr",
     "output_type": "stream",
     "text": [
      "/usr/local/lib/python3.6/dist-packages/ipykernel_launcher.py:1: DeprecationWarning: Call to deprecated `__getitem__` (Method will be removed in 4.0.0, use self.wv.__getitem__() instead).\n",
      "  \"\"\"Entry point for launching an IPython kernel.\n"
     ]
    },
    {
     "data": {
      "text/plain": [
       "array([ 9.13347721e-01,  6.92272902e-01, -1.18461585e+00,  1.67225853e-01,\n",
       "       -6.58412129e-02,  1.00496376e+00, -4.99042302e-01,  1.10549235e+00,\n",
       "        6.65859997e-01, -3.76301706e-01, -1.61402488e+00,  2.62574941e-01,\n",
       "       -5.47550142e-01, -1.23878944e+00, -8.25451910e-01, -7.62926135e-03,\n",
       "       -1.34581700e-01, -1.75120264e-01, -6.78238630e-01, -8.94919336e-01,\n",
       "        2.49637276e-01, -1.78716823e-01, -1.21175401e-01,  4.23309624e-01,\n",
       "       -1.25400460e+00, -1.67151105e+00, -1.49744809e+00, -3.28331202e-01,\n",
       "        1.29015756e+00, -4.09096599e-01,  1.34545537e-02,  4.46761638e-01,\n",
       "        6.31060719e-01, -2.49769852e-01,  2.66065635e-03,  1.72706604e-01,\n",
       "       -7.86496401e-01,  8.42571780e-02, -1.87795401e-01, -1.80582210e-01,\n",
       "       -1.28392565e+00,  6.12952709e-01, -1.44047272e+00,  4.59541194e-02,\n",
       "        1.54839182e+00, -1.12181747e+00, -1.22319020e-01, -1.40300500e+00,\n",
       "        1.06769204e+00, -1.68531373e-01, -3.19991797e-01,  1.08409250e+00,\n",
       "        7.63882816e-01,  1.55042470e+00, -7.61000991e-01, -7.62257040e-01,\n",
       "        5.61304033e-01,  8.18986416e-01, -1.45989525e+00,  1.29838216e+00,\n",
       "        5.30804574e-01, -1.25616109e+00, -2.60968417e-01,  1.10739279e+00,\n",
       "       -4.05162632e-01,  6.42424226e-02, -9.63657737e-01,  1.56962693e-01,\n",
       "       -7.39560723e-02, -5.31762540e-01, -1.11925948e+00, -1.18027663e+00,\n",
       "        1.19328558e+00,  4.26647902e-01, -2.11874336e-01, -6.41279817e-01,\n",
       "       -2.15053582e+00, -6.12567723e-01, -8.24025035e-01,  8.80318522e-01,\n",
       "       -6.39251888e-01,  2.07423657e-01, -2.91078496e+00, -4.15431112e-01,\n",
       "        3.30416590e-01,  8.79106283e-01, -6.96361423e-01, -1.10858425e-01,\n",
       "        1.93249941e-01, -8.71259749e-01, -4.11453051e-03, -3.83442163e-01,\n",
       "        1.43788147e+00,  1.99110782e+00, -4.71031725e-01, -1.44458878e+00,\n",
       "       -1.36822611e-01,  9.51992035e-01,  7.64915943e-01, -4.05438989e-01],\n",
       "      dtype=float32)"
      ]
     },
     "execution_count": 53,
     "metadata": {
      "tags": []
     },
     "output_type": "execute_result"
    }
   ],
   "source": [
    "model[model.wv.vocab][0]"
   ]
  },
  {
   "cell_type": "code",
   "execution_count": 0,
   "metadata": {
    "colab": {},
    "colab_type": "code",
    "id": "P09OqGuZ4XaO"
   },
   "outputs": [],
   "source": [
    "features_arr  = np.array(features)\n"
   ]
  },
  {
   "cell_type": "code",
   "execution_count": 0,
   "metadata": {
    "colab": {
     "base_uri": "https://localhost:8080/",
     "height": 33
    },
    "colab_type": "code",
    "id": "qdqTDbY18lZS",
    "outputId": "82625d4e-8bdf-4d92-bee2-ea3b8ddde871"
   },
   "outputs": [
    {
     "data": {
      "text/plain": [
       "0"
      ]
     },
     "execution_count": 46,
     "metadata": {
      "tags": []
     },
     "output_type": "execute_result"
    }
   ],
   "source": [
    "\n",
    "np.isnan(features_arr).sum()"
   ]
  },
  {
   "cell_type": "code",
   "execution_count": 0,
   "metadata": {
    "colab": {
     "base_uri": "https://localhost:8080/",
     "height": 33
    },
    "colab_type": "code",
    "id": "xYK0IxN-4gSq",
    "outputId": "387cf08b-aba0-4a52-f561-ff4d932d50fa"
   },
   "outputs": [
    {
     "data": {
      "text/plain": [
       "(7613, 1, 300)"
      ]
     },
     "execution_count": 47,
     "metadata": {
      "tags": []
     },
     "output_type": "execute_result"
    }
   ],
   "source": [
    "features_arr.shape"
   ]
  },
  {
   "cell_type": "code",
   "execution_count": 0,
   "metadata": {
    "colab": {},
    "colab_type": "code",
    "id": "9zfm6ioj0b06"
   },
   "outputs": [],
   "source": [
    "feature_reshape = features_arr.reshape(features_arr.shape[0],300)"
   ]
  },
  {
   "cell_type": "code",
   "execution_count": 0,
   "metadata": {
    "colab": {
     "base_uri": "https://localhost:8080/",
     "height": 33
    },
    "colab_type": "code",
    "id": "ppY56nnY0lHD",
    "outputId": "036703db-7fa4-40c9-b742-b7b00e44b919"
   },
   "outputs": [
    {
     "data": {
      "text/plain": [
       "(7613, 300)"
      ]
     },
     "execution_count": 49,
     "metadata": {
      "tags": []
     },
     "output_type": "execute_result"
    }
   ],
   "source": [
    "feature_reshape.shape"
   ]
  },
  {
   "cell_type": "code",
   "execution_count": 0,
   "metadata": {
    "colab": {
     "base_uri": "https://localhost:8080/",
     "height": 100
    },
    "colab_type": "code",
    "id": "IdFcXHVO3BWi",
    "outputId": "fc11cdfc-b93f-4c40-d350-cc24cba9d88d"
   },
   "outputs": [
    {
     "name": "stdout",
     "output_type": "stream",
     "text": [
      "(6090, 300)\n",
      "(6090, 300)\n",
      "RandomForestClassifierTraining Score is 0.9738916256157636 and Validation Score is 0.7518056467498359\n",
      "AdaBoostClassifierTraining Score is 0.764367816091954 and Validation Score is 0.7229152987524623\n",
      "GradientBoostingClassifierTraining Score is 0.8178981937602627 and Validation Score is 0.7458962573867367\n"
     ]
    }
   ],
   "source": [
    "doModel(feature_reshape,train_label)"
   ]
  },
  {
   "cell_type": "code",
   "execution_count": 0,
   "metadata": {
    "colab": {},
    "colab_type": "code",
    "id": "qJeayY5U4OO9"
   },
   "outputs": [],
   "source": []
  }
 ],
 "metadata": {
  "accelerator": "GPU",
  "colab": {
   "collapsed_sections": [],
   "name": "NLP with Disaster Tweets.ipynb",
   "provenance": []
  },
  "kernelspec": {
   "display_name": "Python 3",
   "language": "python",
   "name": "python3"
  },
  "language_info": {
   "codemirror_mode": {
    "name": "ipython",
    "version": 3
   },
   "file_extension": ".py",
   "mimetype": "text/x-python",
   "name": "python",
   "nbconvert_exporter": "python",
   "pygments_lexer": "ipython3",
   "version": "3.7.6"
  }
 },
 "nbformat": 4,
 "nbformat_minor": 1
}
